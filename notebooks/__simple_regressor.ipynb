{
 "cells": [
  {
   "cell_type": "code",
   "execution_count": 1,
   "id": "0615710c-e339-4a99-80be-d0d7f810cd63",
   "metadata": {
    "tags": []
   },
   "outputs": [
    {
     "name": "stderr",
     "output_type": "stream",
     "text": [
      "2023-12-12 22:48:48.178471: I tensorflow/core/util/port.cc:113] oneDNN custom operations are on. You may see slightly different numerical results due to floating-point round-off errors from different computation orders. To turn them off, set the environment variable `TF_ENABLE_ONEDNN_OPTS=0`.\n",
      "2023-12-12 22:48:48.184980: I external/local_tsl/tsl/cuda/cudart_stub.cc:31] Could not find cuda drivers on your machine, GPU will not be used.\n",
      "2023-12-12 22:48:48.220340: E external/local_xla/xla/stream_executor/cuda/cuda_dnn.cc:9261] Unable to register cuDNN factory: Attempting to register factory for plugin cuDNN when one has already been registered\n",
      "2023-12-12 22:48:48.220388: E external/local_xla/xla/stream_executor/cuda/cuda_fft.cc:607] Unable to register cuFFT factory: Attempting to register factory for plugin cuFFT when one has already been registered\n",
      "2023-12-12 22:48:48.221556: E external/local_xla/xla/stream_executor/cuda/cuda_blas.cc:1515] Unable to register cuBLAS factory: Attempting to register factory for plugin cuBLAS when one has already been registered\n",
      "2023-12-12 22:48:48.227458: I external/local_tsl/tsl/cuda/cudart_stub.cc:31] Could not find cuda drivers on your machine, GPU will not be used.\n",
      "2023-12-12 22:48:48.228069: I tensorflow/core/platform/cpu_feature_guard.cc:182] This TensorFlow binary is optimized to use available CPU instructions in performance-critical operations.\n",
      "To enable the following instructions: AVX2 AVX512F AVX512_VNNI FMA, in other operations, rebuild TensorFlow with the appropriate compiler flags.\n",
      "2023-12-12 22:48:49.321545: W tensorflow/compiler/tf2tensorrt/utils/py_utils.cc:38] TF-TRT Warning: Could not find TensorRT\n"
     ]
    }
   ],
   "source": [
    "import sys\n",
    "from typing import Literal\n",
    "\n",
    "import numpy as np\n",
    "import tensorflow as tf\n",
    "from tensorflow.keras.layers import GRU, Dense, Embedding, SimpleRNN, StringLookup\n",
    "from tensorflow.keras.models import Model\n",
    "\n",
    "%load_ext autoreload\n",
    "%autoreload 2\n",
    "\n",
    "sys.path.append(\"../\")\n",
    "from equation_discover import *"
   ]
  },
  {
   "cell_type": "code",
   "execution_count": 29,
   "id": "a7e41b39-557a-4c9f-955b-c622714e3cc1",
   "metadata": {
    "tags": []
   },
   "outputs": [],
   "source": [
    "n_samples = 32\n",
    "sampler = EquationSampler(BASE_TOKENS, 16, 2)\n",
    "(\n",
    "    sequences,\n",
    "    entropies,\n",
    "    log_probs,\n",
    "    counters,\n",
    "    lengths,\n",
    "    sequence_mask,\n",
    ") = sampler.sample_sequence(n_samples)"
   ]
  },
  {
   "cell_type": "code",
   "execution_count": 30,
   "id": "9661d972-4134-40e6-ad0c-058eb855ea88",
   "metadata": {
    "tags": []
   },
   "outputs": [],
   "source": [
    "sequence = sequences[0]\n",
    "length = lengths[0]"
   ]
  },
  {
   "cell_type": "code",
   "execution_count": 31,
   "id": "68fbe080-1a5b-4c22-8d85-981f18dd8310",
   "metadata": {
    "tags": []
   },
   "outputs": [],
   "source": [
    "def build_tree(sequence):\n",
    "    value = sequence[0]\n",
    "    token = BASE_TOKENS[value]\n",
    "    root = Node.from_token(token, parent=None)\n",
    "\n",
    "    current_arity = root.arity\n",
    "    previous = root\n",
    "\n",
    "    for value in sequence[1:]:\n",
    "        current_arity -= 1\n",
    "        token = BASE_TOKENS[value]\n",
    "        child = Node.from_token(token)\n",
    "        current_arity += child.arity\n",
    "        \n",
    "        previous.add_child(child)\n",
    "        \n",
    "        previous = child\n",
    "        while not previous.remaining_children():\n",
    "            previous = previous.parent\n",
    "            if previous is None:\n",
    "                break\n",
    "    return root"
   ]
  },
  {
   "cell_type": "markdown",
   "id": "f5df87f4-2b53-434d-bd1c-fa16d234c418",
   "metadata": {},
   "source": [
    "TODO constraint avoid x / x"
   ]
  },
  {
   "cell_type": "code",
   "execution_count": 34,
   "id": "adb024e4-2ee2-4922-9618-0fd8745abc74",
   "metadata": {
    "tags": []
   },
   "outputs": [
    {
     "data": {
      "text/plain": [
       "'log(var_x / const) + exp(var_x / cos(const / const))'"
      ]
     },
     "execution_count": 34,
     "metadata": {},
     "output_type": "execute_result"
    }
   ],
   "source": [
    "build_tree(sequence[0:length])._recursive_expr_repr()"
   ]
  },
  {
   "cell_type": "code",
   "execution_count": null,
   "id": "28021459-c6c7-40c0-b93a-1fb712ffce38",
   "metadata": {
    "tags": []
   },
   "outputs": [],
   "source": [
    "for value in sequence:\n",
    "    print(BASE_TOKENS[value])"
   ]
  },
  {
   "cell_type": "code",
   "execution_count": 14,
   "id": "e9405357-31b4-47c1-8400-f3151d34aeda",
   "metadata": {
    "tags": []
   },
   "outputs": [],
   "source": [
    "tokens = [token.symbol for token in BASE_TOKENS]\n",
    "items = ['cos', '+', 'const', 'exp', 'var_x']\n",
    "items = [tokens.index(item) for item in items]"
   ]
  },
  {
   "cell_type": "code",
   "execution_count": 15,
   "id": "7f583ed9-dfe9-4214-9e23-c59f3a62517d",
   "metadata": {
    "tags": []
   },
   "outputs": [
    {
     "data": {
      "text/plain": [
       "[5, 0, 8, 6, 9]"
      ]
     },
     "execution_count": 15,
     "metadata": {},
     "output_type": "execute_result"
    }
   ],
   "source": [
    "items"
   ]
  },
  {
   "cell_type": "code",
   "execution_count": 25,
   "id": "a702e750-3bb1-4b3d-89b7-be8912015cce",
   "metadata": {
    "tags": []
   },
   "outputs": [
    {
     "data": {
      "text/html": [
       "<div>\t<li><details open><summary>cos</summary>\t<ul><li><details open><summary>+</summary>\t<ul><li>const</li></ul>\t<ul><li><details open><summary>exp</summary>\t<ul><li>var_x</li></ul></details></li></ul></details></li></ul></details></li></div>"
      ],
      "text/plain": [
       "cos(const + exp(var_x))"
      ]
     },
     "execution_count": 25,
     "metadata": {},
     "output_type": "execute_result"
    }
   ],
   "source": [
    "build_tree(items)"
   ]
  },
  {
   "cell_type": "code",
   "execution_count": null,
   "id": "854744c7-22e0-492e-9cc6-490e90b78ddc",
   "metadata": {
    "tags": []
   },
   "outputs": [],
   "source": [
    "root = Node.from_token(BASE_TOKENS[5])\n",
    "previous = root"
   ]
  },
  {
   "cell_type": "code",
   "execution_count": null,
   "id": "d2979423-3706-4f4f-83b3-d84a98f2db45",
   "metadata": {
    "tags": []
   },
   "outputs": [],
   "source": [
    "previous"
   ]
  },
  {
   "cell_type": "code",
   "execution_count": null,
   "id": "16aca78f-08ba-44e2-a9aa-0c9d98490c58",
   "metadata": {
    "tags": []
   },
   "outputs": [],
   "source": [
    "child = Node.from_token(BASE_TOKENS[0])\n",
    "previous.add_child(child)\n",
    "previous = child"
   ]
  },
  {
   "cell_type": "code",
   "execution_count": null,
   "id": "a35493b4-c851-4c4f-ba4f-10a7f97d9d2e",
   "metadata": {
    "tags": []
   },
   "outputs": [],
   "source": [
    "previous"
   ]
  },
  {
   "cell_type": "code",
   "execution_count": null,
   "id": "201762c5-3bbf-48ae-9f03-4b6bd0febabf",
   "metadata": {
    "tags": []
   },
   "outputs": [],
   "source": [
    "child = Node.from_token(BASE_TOKENS[8])\n",
    "previous.add_child(child)\n",
    "previous = child"
   ]
  },
  {
   "cell_type": "code",
   "execution_count": null,
   "id": "76348a6b-a237-4106-a5bc-37cae6f6e147",
   "metadata": {
    "tags": []
   },
   "outputs": [],
   "source": [
    "previous"
   ]
  },
  {
   "cell_type": "code",
   "execution_count": null,
   "id": "eb153637-ea96-4557-bbee-0af6697dd8ce",
   "metadata": {
    "tags": []
   },
   "outputs": [],
   "source": [
    "previous.parent"
   ]
  },
  {
   "cell_type": "code",
   "execution_count": null,
   "id": "6e5eb294-d87f-4371-a2eb-98d2e3a26fb2",
   "metadata": {},
   "outputs": [],
   "source": [
    "previous = previous.parent"
   ]
  },
  {
   "cell_type": "code",
   "execution_count": null,
   "id": "d1496572-5861-419f-892c-cc64fa620585",
   "metadata": {
    "tags": []
   },
   "outputs": [],
   "source": [
    "child.remaining_children()"
   ]
  },
  {
   "cell_type": "code",
   "execution_count": null,
   "id": "11b26df9-7c91-4c54-87e3-b1f9a9a987d6",
   "metadata": {},
   "outputs": [],
   "source": []
  },
  {
   "cell_type": "code",
   "execution_count": null,
   "id": "b2c2613e-c11f-46be-8580-3dbdae0bdc88",
   "metadata": {
    "tags": []
   },
   "outputs": [],
   "source": [
    "build_tree(sequence[:length-1])"
   ]
  },
  {
   "cell_type": "code",
   "execution_count": null,
   "id": "d9a83fda-9bd8-4524-8483-4b446f5bb5a2",
   "metadata": {},
   "outputs": [],
   "source": []
  }
 ],
 "metadata": {
  "kernelspec": {
   "display_name": "Python 3 (ipykernel)",
   "language": "python",
   "name": "python3"
  },
  "language_info": {
   "codemirror_mode": {
    "name": "ipython",
    "version": 3
   },
   "file_extension": ".py",
   "mimetype": "text/x-python",
   "name": "python",
   "nbconvert_exporter": "python",
   "pygments_lexer": "ipython3",
   "version": "3.11.6"
  }
 },
 "nbformat": 4,
 "nbformat_minor": 5
}
