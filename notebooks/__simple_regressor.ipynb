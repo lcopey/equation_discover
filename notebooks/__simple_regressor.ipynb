{
 "cells": [
  {
   "cell_type": "code",
   "execution_count": 1,
   "id": "0615710c-e339-4a99-80be-d0d7f810cd63",
   "metadata": {
    "tags": []
   },
   "outputs": [
    {
     "name": "stderr",
     "output_type": "stream",
     "text": [
      "2023-12-18 15:31:55.167281: I tensorflow/core/util/port.cc:113] oneDNN custom operations are on. You may see slightly different numerical results due to floating-point round-off errors from different computation orders. To turn them off, set the environment variable `TF_ENABLE_ONEDNN_OPTS=0`.\n",
      "2023-12-18 15:31:55.169526: I external/local_tsl/tsl/cuda/cudart_stub.cc:31] Could not find cuda drivers on your machine, GPU will not be used.\n",
      "2023-12-18 15:31:55.200198: E external/local_xla/xla/stream_executor/cuda/cuda_dnn.cc:9261] Unable to register cuDNN factory: Attempting to register factory for plugin cuDNN when one has already been registered\n",
      "2023-12-18 15:31:55.200226: E external/local_xla/xla/stream_executor/cuda/cuda_fft.cc:607] Unable to register cuFFT factory: Attempting to register factory for plugin cuFFT when one has already been registered\n",
      "2023-12-18 15:31:55.201082: E external/local_xla/xla/stream_executor/cuda/cuda_blas.cc:1515] Unable to register cuBLAS factory: Attempting to register factory for plugin cuBLAS when one has already been registered\n",
      "2023-12-18 15:31:55.206214: I external/local_tsl/tsl/cuda/cudart_stub.cc:31] Could not find cuda drivers on your machine, GPU will not be used.\n",
      "2023-12-18 15:31:55.206924: I tensorflow/core/platform/cpu_feature_guard.cc:182] This TensorFlow binary is optimized to use available CPU instructions in performance-critical operations.\n",
      "To enable the following instructions: AVX2 AVX512F AVX512_VNNI FMA, in other operations, rebuild TensorFlow with the appropriate compiler flags.\n",
      "2023-12-18 15:31:56.212531: W tensorflow/compiler/tf2tensorrt/utils/py_utils.cc:38] TF-TRT Warning: Could not find TensorRT\n"
     ]
    }
   ],
   "source": [
    "import sys\n",
    "from typing import Literal\n",
    "\n",
    "import numpy as np\n",
    "import tensorflow as tf\n",
    "from tensorflow.keras.layers import GRU, Dense, Embedding, SimpleRNN, StringLookup\n",
    "from tensorflow.keras.models import Model\n",
    "\n",
    "%load_ext autoreload\n",
    "%autoreload 2\n",
    "\n",
    "sys.path.append(\"../\")\n",
    "from equation_discover import *"
   ]
  },
  {
   "cell_type": "code",
   "execution_count": 2,
   "id": "a7e41b39-557a-4c9f-955b-c622714e3cc1",
   "metadata": {
    "tags": []
   },
   "outputs": [],
   "source": [
    "n_samples = 32\n",
    "sampler = EquationSampler(BASE_TOKENS, 16, 2)\n",
    "(\n",
    "    sequences,\n",
    "    entropies,\n",
    "    log_probs,\n",
    "    counters,\n",
    "    lengths,\n",
    "    sequence_mask,\n",
    ") = sampler.sample_sequence(n_samples)"
   ]
  },
  {
   "cell_type": "code",
   "execution_count": 19,
   "id": "330e6d6f-fe16-4cbd-9f55-b24c0913b724",
   "metadata": {
    "tags": []
   },
   "outputs": [],
   "source": [
    "for sequence, length in zip(sequences, lengths):\n",
    "    break"
   ]
  },
  {
   "cell_type": "code",
   "execution_count": 55,
   "id": "4aa0c0be-4f04-4445-bf0d-37b86fd3bc58",
   "metadata": {
    "tags": []
   },
   "outputs": [
    {
     "data": {
      "text/plain": [
       "'$$\\\\frac{log (sin (var_x-var_x)-log (const-const))}{const}$$'"
      ]
     },
     "execution_count": 55,
     "metadata": {},
     "output_type": "execute_result"
    }
   ],
   "source": [
    "Node.build_tree(sequence[0:length])._repr_latex_()"
   ]
  },
  {
   "cell_type": "code",
   "execution_count": 51,
   "id": "7d0ee7ff-b8e0-4adf-8492-b68b9c26a09a",
   "metadata": {},
   "outputs": [
    {
     "data": {
      "text/latex": [
       "$$\\frac{log (sin (var_x-var_x)-log (const-const))}{const}$$"
      ],
      "text/plain": [
       "<IPython.core.display.Latex object>"
      ]
     },
     "execution_count": 51,
     "metadata": {},
     "output_type": "execute_result"
    }
   ],
   "source": [
    "from IPython.display import Latex\n",
    "Latex(f'$${Node.build_tree(sequence[0:length]).__repr__()}$$')"
   ]
  },
  {
   "cell_type": "markdown",
   "id": "f5df87f4-2b53-434d-bd1c-fa16d234c418",
   "metadata": {},
   "source": [
    "TODO constraint avoid x / x"
   ]
  },
  {
   "cell_type": "code",
   "execution_count": null,
   "id": "adb024e4-2ee2-4922-9618-0fd8745abc74",
   "metadata": {
    "tags": []
   },
   "outputs": [],
   "source": [
    "build_tree(sequence[0:length])"
   ]
  },
  {
   "cell_type": "code",
   "execution_count": null,
   "id": "28021459-c6c7-40c0-b93a-1fb712ffce38",
   "metadata": {
    "tags": []
   },
   "outputs": [],
   "source": [
    "for value in sequence:\n",
    "    print(BASE_TOKENS[value])"
   ]
  },
  {
   "cell_type": "code",
   "execution_count": null,
   "id": "e9405357-31b4-47c1-8400-f3151d34aeda",
   "metadata": {
    "tags": []
   },
   "outputs": [],
   "source": [
    "tokens = [token.symbol for token in BASE_TOKENS]\n",
    "items = [\"cos\", \"+\", \"const\", \"exp\", \"var_x\"]\n",
    "items = [tokens.index(item) for item in items]"
   ]
  },
  {
   "cell_type": "code",
   "execution_count": null,
   "id": "7f583ed9-dfe9-4214-9e23-c59f3a62517d",
   "metadata": {
    "tags": []
   },
   "outputs": [],
   "source": [
    "items"
   ]
  },
  {
   "cell_type": "code",
   "execution_count": null,
   "id": "a702e750-3bb1-4b3d-89b7-be8912015cce",
   "metadata": {
    "tags": []
   },
   "outputs": [],
   "source": [
    "build_tree(items)"
   ]
  },
  {
   "cell_type": "code",
   "execution_count": null,
   "id": "854744c7-22e0-492e-9cc6-490e90b78ddc",
   "metadata": {
    "tags": []
   },
   "outputs": [],
   "source": [
    "root = Node.from_token(BASE_TOKENS[5])\n",
    "previous = root"
   ]
  },
  {
   "cell_type": "code",
   "execution_count": null,
   "id": "d2979423-3706-4f4f-83b3-d84a98f2db45",
   "metadata": {
    "tags": []
   },
   "outputs": [],
   "source": [
    "previous"
   ]
  },
  {
   "cell_type": "code",
   "execution_count": null,
   "id": "16aca78f-08ba-44e2-a9aa-0c9d98490c58",
   "metadata": {
    "tags": []
   },
   "outputs": [],
   "source": [
    "child = Node.from_token(BASE_TOKENS[0])\n",
    "previous.add_child(child)\n",
    "previous = child"
   ]
  },
  {
   "cell_type": "code",
   "execution_count": null,
   "id": "a35493b4-c851-4c4f-ba4f-10a7f97d9d2e",
   "metadata": {
    "tags": []
   },
   "outputs": [],
   "source": [
    "previous"
   ]
  },
  {
   "cell_type": "code",
   "execution_count": null,
   "id": "201762c5-3bbf-48ae-9f03-4b6bd0febabf",
   "metadata": {
    "tags": []
   },
   "outputs": [],
   "source": [
    "child = Node.from_token(BASE_TOKENS[8])\n",
    "previous.add_child(child)\n",
    "previous = child"
   ]
  },
  {
   "cell_type": "code",
   "execution_count": null,
   "id": "76348a6b-a237-4106-a5bc-37cae6f6e147",
   "metadata": {
    "tags": []
   },
   "outputs": [],
   "source": [
    "previous"
   ]
  },
  {
   "cell_type": "code",
   "execution_count": null,
   "id": "eb153637-ea96-4557-bbee-0af6697dd8ce",
   "metadata": {
    "tags": []
   },
   "outputs": [],
   "source": [
    "previous.parent"
   ]
  },
  {
   "cell_type": "code",
   "execution_count": null,
   "id": "6e5eb294-d87f-4371-a2eb-98d2e3a26fb2",
   "metadata": {},
   "outputs": [],
   "source": [
    "previous = previous.parent"
   ]
  },
  {
   "cell_type": "code",
   "execution_count": null,
   "id": "d1496572-5861-419f-892c-cc64fa620585",
   "metadata": {
    "tags": []
   },
   "outputs": [],
   "source": [
    "child.remaining_children()"
   ]
  },
  {
   "cell_type": "code",
   "execution_count": null,
   "id": "11b26df9-7c91-4c54-87e3-b1f9a9a987d6",
   "metadata": {},
   "outputs": [],
   "source": []
  },
  {
   "cell_type": "code",
   "execution_count": null,
   "id": "b2c2613e-c11f-46be-8580-3dbdae0bdc88",
   "metadata": {
    "tags": []
   },
   "outputs": [],
   "source": [
    "build_tree(sequence[: length - 1])"
   ]
  },
  {
   "cell_type": "code",
   "execution_count": null,
   "id": "d9a83fda-9bd8-4524-8483-4b446f5bb5a2",
   "metadata": {},
   "outputs": [],
   "source": []
  }
 ],
 "metadata": {
  "kernelspec": {
   "display_name": "Python 3 (ipykernel)",
   "language": "python",
   "name": "python3"
  },
  "language_info": {
   "codemirror_mode": {
    "name": "ipython",
    "version": 3
   },
   "file_extension": ".py",
   "mimetype": "text/x-python",
   "name": "python",
   "nbconvert_exporter": "python",
   "pygments_lexer": "ipython3",
   "version": "3.11.6"
  }
 },
 "nbformat": 4,
 "nbformat_minor": 5
}
