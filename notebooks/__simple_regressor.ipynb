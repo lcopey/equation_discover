{
 "cells": [
  {
   "cell_type": "code",
   "execution_count": 1,
   "id": "0615710c-e339-4a99-80be-d0d7f810cd63",
   "metadata": {
    "tags": []
   },
   "outputs": [
    {
     "name": "stderr",
     "output_type": "stream",
     "text": [
      "2023-12-09 18:40:12.923007: I tensorflow/core/util/port.cc:113] oneDNN custom operations are on. You may see slightly different numerical results due to floating-point round-off errors from different computation orders. To turn them off, set the environment variable `TF_ENABLE_ONEDNN_OPTS=0`.\n",
      "2023-12-09 18:40:12.929393: I external/local_tsl/tsl/cuda/cudart_stub.cc:31] Could not find cuda drivers on your machine, GPU will not be used.\n",
      "2023-12-09 18:40:13.055069: E external/local_xla/xla/stream_executor/cuda/cuda_dnn.cc:9261] Unable to register cuDNN factory: Attempting to register factory for plugin cuDNN when one has already been registered\n",
      "2023-12-09 18:40:13.055200: E external/local_xla/xla/stream_executor/cuda/cuda_fft.cc:607] Unable to register cuFFT factory: Attempting to register factory for plugin cuFFT when one has already been registered\n",
      "2023-12-09 18:40:13.100469: E external/local_xla/xla/stream_executor/cuda/cuda_blas.cc:1515] Unable to register cuBLAS factory: Attempting to register factory for plugin cuBLAS when one has already been registered\n",
      "2023-12-09 18:40:13.179695: I external/local_tsl/tsl/cuda/cudart_stub.cc:31] Could not find cuda drivers on your machine, GPU will not be used.\n",
      "2023-12-09 18:40:13.181038: I tensorflow/core/platform/cpu_feature_guard.cc:182] This TensorFlow binary is optimized to use available CPU instructions in performance-critical operations.\n",
      "To enable the following instructions: AVX2 AVX512F AVX512_VNNI FMA, in other operations, rebuild TensorFlow with the appropriate compiler flags.\n",
      "2023-12-09 18:40:14.223846: W tensorflow/compiler/tf2tensorrt/utils/py_utils.cc:38] TF-TRT Warning: Could not find TensorRT\n"
     ]
    }
   ],
   "source": [
    "import sys\n",
    "from typing import Literal\n",
    "\n",
    "import numpy as np\n",
    "import tensorflow as tf\n",
    "from tensorflow.keras.layers import GRU, Dense, Embedding, SimpleRNN, StringLookup\n",
    "from tensorflow.keras.models import Model\n",
    "\n",
    "%load_ext autoreload\n",
    "%autoreload 2\n",
    "\n",
    "sys.path.append(\"../\")\n",
    "from equation_discover import *"
   ]
  },
  {
   "cell_type": "code",
   "execution_count": 2,
   "id": "a7e41b39-557a-4c9f-955b-c622714e3cc1",
   "metadata": {
    "tags": []
   },
   "outputs": [],
   "source": [
    "n_samples = 32\n",
    "sampler = EquationSampler(BASE_TOKENS, 16, 2)\n",
    "(\n",
    "    sequences,\n",
    "    entropies,\n",
    "    log_probs,\n",
    "    counters,\n",
    "    lengths,\n",
    "    sequence_mask,\n",
    ") = sampler.sample_sequence(n_samples, repeat=1)"
   ]
  },
  {
   "cell_type": "code",
   "execution_count": 7,
   "id": "41f6d07e-cef2-4a00-af9b-d5c7c6897965",
   "metadata": {
    "tags": []
   },
   "outputs": [
    {
     "data": {
      "text/plain": [
       "array([[4, 7, 3, 7, 0, 9, 5, 3, 9, 8, 9, 8],\n",
       "       [0, 8, 5, 2, 2, 0, 2, 8, 8, 8, 9, 8],\n",
       "       [5, 0, 8, 9, 4, 5, 7, 4, 0, 4, 8, 8],\n",
       "       [4, 2, 0, 2, 9, 3, 7, 8, 8, 8, 8, 8],\n",
       "       [7, 9, 1, 8, 3, 7, 5, 5, 2, 8, 9, 8],\n",
       "       [7, 7, 0, 2, 8, 0, 1, 8, 8, 9, 8, 9],\n",
       "       [5, 0, 4, 1, 8, 1, 8, 7, 8, 3, 8, 9],\n",
       "       [0, 4, 4, 4, 1, 0, 9, 8, 0, 9, 8, 9],\n",
       "       [2, 1, 4, 4, 4, 0, 9, 3, 8, 8, 9, 8],\n",
       "       [2, 7, 7, 5, 5, 8, 7, 0, 7, 9, 9, 9],\n",
       "       [5, 7, 9, 2, 2, 3, 0, 9, 8, 8, 8, 8],\n",
       "       [2, 7, 6, 4, 4, 4, 8, 1, 6, 8, 9, 8],\n",
       "       [0, 9, 0, 0, 1, 1, 9, 9, 8, 8, 8, 9],\n",
       "       [1, 2, 6, 7, 1, 8, 0, 8, 8, 9, 9, 8],\n",
       "       [7, 9, 6, 9, 7, 0, 7, 9, 7, 9, 4, 3],\n",
       "       [5, 2, 1, 4, 7, 7, 1, 9, 9, 9, 9, 8],\n",
       "       [5, 0, 0, 5, 2, 1, 8, 8, 8, 8, 9, 8],\n",
       "       [0, 1, 2, 4, 3, 1, 8, 8, 9, 9, 8, 8],\n",
       "       [0, 5, 2, 3, 3, 4, 8, 9, 9, 9, 8, 9],\n",
       "       [4, 7, 2, 5, 2, 4, 4, 8, 0, 9, 9, 8],\n",
       "       [0, 8, 9, 3, 2, 9, 7, 9, 6, 8, 2, 9],\n",
       "       [5, 5, 2, 5, 5, 7, 5, 1, 8, 8, 9, 9],\n",
       "       [0, 0, 9, 1, 5, 0, 6, 8, 8, 8, 8, 8],\n",
       "       [3, 2, 6, 3, 8, 7, 2, 9, 9, 9, 8, 8],\n",
       "       [7, 2, 5, 9, 8, 3, 2, 4, 3, 8, 9, 9],\n",
       "       [0, 8, 2, 0, 8, 0, 8, 4, 2, 9, 8, 8],\n",
       "       [7, 0, 5, 5, 3, 8, 8, 4, 0, 8, 9, 8],\n",
       "       [7, 3, 7, 0, 1, 2, 8, 8, 9, 9, 8, 9],\n",
       "       [2, 0, 0, 5, 9, 9, 8, 5, 2, 9, 8, 9],\n",
       "       [0, 9, 0, 7, 8, 3, 7, 8, 2, 8, 8, 8],\n",
       "       [0, 4, 0, 2, 9, 8, 2, 3, 9, 8, 8, 8],\n",
       "       [0, 4, 7, 2, 4, 0, 3, 8, 8, 9, 9, 9]], dtype=int32)"
      ]
     },
     "execution_count": 7,
     "metadata": {},
     "output_type": "execute_result"
    }
   ],
   "source": []
  },
  {
   "cell_type": "code",
   "execution_count": 3,
   "id": "5ffcc808-3b3b-4e3c-8ad1-5e9ae72be49b",
   "metadata": {
    "tags": []
   },
   "outputs": [],
   "source": [
    "sequences = TensorExpress(sequences)"
   ]
  },
  {
   "cell_type": "code",
   "execution_count": 4,
   "id": "9661d972-4134-40e6-ad0c-058eb855ea88",
   "metadata": {
    "tags": []
   },
   "outputs": [
    {
     "data": {
      "text/plain": [
       "<tf.Tensor: shape=(32, 12), dtype=int32, numpy=\n",
       "array([[4, 7, 3, 7, 0, 9, 5, 3, 9, 8, 9, 8],\n",
       "       [0, 8, 5, 2, 2, 0, 2, 8, 8, 8, 9, 8],\n",
       "       [5, 0, 8, 9, 4, 5, 7, 4, 0, 4, 8, 8],\n",
       "       [4, 2, 0, 2, 9, 3, 7, 8, 8, 8, 8, 8],\n",
       "       [7, 9, 1, 8, 3, 7, 5, 5, 2, 8, 9, 8],\n",
       "       [7, 7, 0, 2, 8, 0, 1, 8, 8, 9, 8, 9],\n",
       "       [5, 0, 4, 1, 8, 1, 8, 7, 8, 3, 8, 9],\n",
       "       [0, 4, 4, 4, 1, 0, 9, 8, 0, 9, 8, 9],\n",
       "       [2, 1, 4, 4, 4, 0, 9, 3, 8, 8, 9, 8],\n",
       "       [2, 7, 7, 5, 5, 8, 7, 0, 7, 9, 9, 9],\n",
       "       [5, 7, 9, 2, 2, 3, 0, 9, 8, 8, 8, 8],\n",
       "       [2, 7, 6, 4, 4, 4, 8, 1, 6, 8, 9, 8],\n",
       "       [0, 9, 0, 0, 1, 1, 9, 9, 8, 8, 8, 9],\n",
       "       [1, 2, 6, 7, 1, 8, 0, 8, 8, 9, 9, 8],\n",
       "       [7, 9, 6, 9, 7, 0, 7, 9, 7, 9, 4, 3],\n",
       "       [5, 2, 1, 4, 7, 7, 1, 9, 9, 9, 9, 8],\n",
       "       [5, 0, 0, 5, 2, 1, 8, 8, 8, 8, 9, 8],\n",
       "       [0, 1, 2, 4, 3, 1, 8, 8, 9, 9, 8, 8],\n",
       "       [0, 5, 2, 3, 3, 4, 8, 9, 9, 9, 8, 9],\n",
       "       [4, 7, 2, 5, 2, 4, 4, 8, 0, 9, 9, 8],\n",
       "       [0, 8, 9, 3, 2, 9, 7, 9, 6, 8, 2, 9],\n",
       "       [5, 5, 2, 5, 5, 7, 5, 1, 8, 8, 9, 9],\n",
       "       [0, 0, 9, 1, 5, 0, 6, 8, 8, 8, 8, 8],\n",
       "       [3, 2, 6, 3, 8, 7, 2, 9, 9, 9, 8, 8],\n",
       "       [7, 2, 5, 9, 8, 3, 2, 4, 3, 8, 9, 9],\n",
       "       [0, 8, 2, 0, 8, 0, 8, 4, 2, 9, 8, 8],\n",
       "       [7, 0, 5, 5, 3, 8, 8, 4, 0, 8, 9, 8],\n",
       "       [7, 3, 7, 0, 1, 2, 8, 8, 9, 9, 8, 9],\n",
       "       [2, 0, 0, 5, 9, 9, 8, 5, 2, 9, 8, 9],\n",
       "       [0, 9, 0, 7, 8, 3, 7, 8, 2, 8, 8, 8],\n",
       "       [0, 4, 0, 2, 9, 8, 2, 3, 9, 8, 8, 8],\n",
       "       [0, 4, 7, 2, 4, 0, 3, 8, 8, 9, 9, 9]], dtype=int32)>"
      ]
     },
     "execution_count": 4,
     "metadata": {},
     "output_type": "execute_result"
    }
   ],
   "source": [
    "sequences.astype(tf.int32)"
   ]
  },
  {
   "cell_type": "code",
   "execution_count": null,
   "id": "7cb396f6-9de9-4a14-9979-99c6a2f6a9c7",
   "metadata": {
    "tags": []
   },
   "outputs": [],
   "source": [
    "tf.cast(sequences, dtype=tf.float32)"
   ]
  },
  {
   "cell_type": "code",
   "execution_count": null,
   "id": "cbe4d0e3-4d8c-4863-b151-ac84ac5b5787",
   "metadata": {
    "tags": []
   },
   "outputs": [],
   "source": [
    "tf.reduce_any(tf.reduce_all(sequence_mask, axis=1))"
   ]
  }
 ],
 "metadata": {
  "kernelspec": {
   "display_name": "Python 3 (ipykernel)",
   "language": "python",
   "name": "python3"
  },
  "language_info": {
   "codemirror_mode": {
    "name": "ipython",
    "version": 3
   },
   "file_extension": ".py",
   "mimetype": "text/x-python",
   "name": "python",
   "nbconvert_exporter": "python",
   "pygments_lexer": "ipython3",
   "version": "3.11.6"
  }
 },
 "nbformat": 4,
 "nbformat_minor": 5
}
