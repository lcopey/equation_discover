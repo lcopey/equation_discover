{
 "cells": [
  {
   "cell_type": "code",
   "execution_count": 16,
   "id": "0615710c-e339-4a99-80be-d0d7f810cd63",
   "metadata": {
    "tags": []
   },
   "outputs": [
    {
     "name": "stdout",
     "output_type": "stream",
     "text": [
      "The autoreload extension is already loaded. To reload it, use:\n",
      "  %reload_ext autoreload\n"
     ]
    }
   ],
   "source": [
    "import sys\n",
    "from typing import Literal\n",
    "\n",
    "import numpy as np\n",
    "import tensorflow as tf\n",
    "from tensorflow.keras.layers import GRU, Dense, Embedding, SimpleRNN, StringLookup\n",
    "from tensorflow.keras.models import Model\n",
    "\n",
    "%load_ext autoreload\n",
    "%autoreload 2\n",
    "\n",
    "sys.path.append(\"../\")\n",
    "from equation_discover import *"
   ]
  },
  {
   "cell_type": "code",
   "execution_count": 17,
   "id": "a7e41b39-557a-4c9f-955b-c622714e3cc1",
   "metadata": {
    "tags": []
   },
   "outputs": [],
   "source": [
    "n_samples = 32\n",
    "sampler = EquationSampler(BASE_TOKENS, 16, 2)\n",
    "sequences, entropies, log_probs = sampler.sample_sequence(n_samples, repeat=5)"
   ]
  },
  {
   "cell_type": "code",
   "execution_count": 9,
   "id": "c297c699-67bc-480e-b05a-7857830f282a",
   "metadata": {
    "tags": []
   },
   "outputs": [],
   "source": [
    "shape = (n_samples, 0)\n",
    "counters = tf.ones(n_samples)\n",
    "lengths = tf.zeros(n_samples)"
   ]
  },
  {
   "cell_type": "code",
   "execution_count": 18,
   "id": "61d0c181-67c0-4dbf-8906-656394bfd076",
   "metadata": {},
   "outputs": [
    {
     "data": {
      "text/plain": [
       "<tf.Tensor: shape=(32, 5), dtype=int32, numpy=\n",
       "array([[4, 7, 6, 3, 2],\n",
       "       [6, 4, 1, 5, 4],\n",
       "       [4, 5, 0, 4, 9],\n",
       "       [3, 4, 4, 4, 3],\n",
       "       [1, 4, 3, 3, 4],\n",
       "       [1, 1, 4, 3, 7],\n",
       "       [4, 3, 3, 1, 5],\n",
       "       [7, 5, 1, 7, 6],\n",
       "       [4, 5, 7, 6, 3],\n",
       "       [4, 1, 4, 4, 2],\n",
       "       [3, 3, 3, 7, 2],\n",
       "       [3, 9, 4, 3, 3],\n",
       "       [4, 4, 4, 4, 4],\n",
       "       [5, 6, 3, 2, 4],\n",
       "       [7, 2, 4, 5, 0],\n",
       "       [4, 7, 3, 1, 4],\n",
       "       [3, 4, 3, 3, 7],\n",
       "       [4, 4, 4, 7, 3],\n",
       "       [0, 3, 2, 3, 3],\n",
       "       [1, 3, 3, 5, 4],\n",
       "       [3, 3, 1, 4, 4],\n",
       "       [1, 4, 3, 3, 1],\n",
       "       [3, 0, 3, 4, 4],\n",
       "       [4, 3, 1, 7, 4],\n",
       "       [1, 3, 3, 7, 0],\n",
       "       [7, 7, 5, 3, 4],\n",
       "       [4, 3, 2, 0, 5],\n",
       "       [1, 2, 2, 2, 4],\n",
       "       [4, 7, 4, 4, 0],\n",
       "       [4, 4, 0, 3, 5],\n",
       "       [4, 3, 2, 3, 2],\n",
       "       [7, 1, 9, 7, 1]], dtype=int32)>"
      ]
     },
     "execution_count": 18,
     "metadata": {},
     "output_type": "execute_result"
    }
   ],
   "source": [
    "sequences"
   ]
  }
 ],
 "metadata": {
  "kernelspec": {
   "display_name": "Python 3 (ipykernel)",
   "language": "python",
   "name": "python3"
  },
  "language_info": {
   "codemirror_mode": {
    "name": "ipython",
    "version": 3
   },
   "file_extension": ".py",
   "mimetype": "text/x-python",
   "name": "python",
   "nbconvert_exporter": "python",
   "pygments_lexer": "ipython3",
   "version": "3.11.6"
  }
 },
 "nbformat": 4,
 "nbformat_minor": 5
}
