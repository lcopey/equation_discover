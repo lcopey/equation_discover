{
 "cells": [
  {
   "cell_type": "code",
   "execution_count": 115,
   "id": "0615710c-e339-4a99-80be-d0d7f810cd63",
   "metadata": {
    "tags": []
   },
   "outputs": [],
   "source": [
    "import numpy as np\n",
    "import tensorflow as tf\n",
    "from tensorflow.keras.layers import GRU, Dense, Embedding, StringLookup\n",
    "from tensorflow.keras.models import Model"
   ]
  },
  {
   "cell_type": "code",
   "execution_count": 161,
   "id": "8a1b8de5-6de6-4378-8655-c2243697a504",
   "metadata": {
    "tags": []
   },
   "outputs": [],
   "source": [
    "class TokenDistribution(Model):\n",
    "    def __init__(self, tokens, embedding_dim, rnn_units):\n",
    "        super().__init__(self)\n",
    "\n",
    "        vocab_size = len(tokens)\n",
    "        self.vocabulary = [token.symbol for token in tokens if token.symbol != \"empty\"]\n",
    "\n",
    "        self.token_to_int = StringLookup(vocabulary=self.vocabulary, mask_token=\"empty\")\n",
    "        self.int_to_token = StringLookup(\n",
    "            vocabulary=self.vocabulary,\n",
    "            invert=True,\n",
    "            mask_token=\"empty\",\n",
    "        )\n",
    "        self.embedding = Embedding(input_dim=vocab_size, output_dim=embedding_dim)\n",
    "        self.gru = GRU(rnn_units, return_sequences=True, return_state=True)\n",
    "        self.dense = Dense(len(self.vocabulary))\n",
    "\n",
    "    def call(self, inputs, states=None, return_state=False, training=False):\n",
    "        x = inputs\n",
    "        x = self.token_to_int(x)\n",
    "        x = self.embedding(x, training=training)\n",
    "        if states is None:\n",
    "            states = self.gru.get_initial_state(x)\n",
    "        x, states = self.gru(x, initial_state=states, training=training)\n",
    "        x = self.dense(x, training=training)\n",
    "\n",
    "        if return_state:\n",
    "            return x, states\n",
    "        else:\n",
    "            return x"
   ]
  },
  {
   "cell_type": "code",
   "execution_count": 162,
   "id": "02b3777c-f886-4b9b-98fe-1774798114f7",
   "metadata": {
    "tags": []
   },
   "outputs": [],
   "source": [
    "from dataclasses import dataclass\n",
    "\n",
    "\n",
    "@dataclass\n",
    "class Token:\n",
    "    symbol: str\n",
    "    arity: float"
   ]
  },
  {
   "cell_type": "code",
   "execution_count": 163,
   "id": "4b95689a-1758-42ac-953b-8328b3f226ce",
   "metadata": {
    "tags": []
   },
   "outputs": [],
   "source": [
    "tokens = [Token(char, 2) for char in \"+-*/\"]\n",
    "tokens.extend([Token(symbol, 1) for symbol in [\"sin\", \"cos\", \"exp\", \"log\"]])\n",
    "tokens.extend([Token(symbol, 0) for symbol in (\"const\", \"var\", \"empty\")])"
   ]
  },
  {
   "cell_type": "code",
   "execution_count": 175,
   "id": "203c0e5e-e68e-4c42-b891-f5d0b44176b3",
   "metadata": {
    "tags": []
   },
   "outputs": [],
   "source": [
    "model = TokenDistribution(tokens, 16, 16)"
   ]
  },
  {
   "cell_type": "code",
   "execution_count": 176,
   "id": "908a9262-b84c-4458-ad8a-3c9a93ec8870",
   "metadata": {
    "tags": []
   },
   "outputs": [
    {
     "data": {
      "text/plain": [
       "<tf.Tensor: shape=(1, 1, 10), dtype=float32, numpy=\n",
       "array([[[-0.00641408, -0.00216806, -0.01779224, -0.00205745,\n",
       "          0.00233911,  0.01203147,  0.00506462,  0.00411894,\n",
       "          0.00392219, -0.00754305]]], dtype=float32)>"
      ]
     },
     "execution_count": 176,
     "metadata": {},
     "output_type": "execute_result"
    }
   ],
   "source": [
    "model(np.array([[\"+\"]]))"
   ]
  },
  {
   "cell_type": "code",
   "execution_count": 201,
   "id": "a9cad597-315b-4f58-9eea-5826d5a6f7dc",
   "metadata": {
    "tags": []
   },
   "outputs": [],
   "source": [
    "class Sampler:\n",
    "    def __init__(self, tokens, embedding_dim, rnn_units):\n",
    "        self.model = TokenDistribution(tokens=tokens, embedding_dim=embedding_dim, rnn_units=rnn_units)\n",
    "        \n",
    "    def sample(self):\n",
    "        inputs = np.array([[\"empty\"], [\"empty\"]])\n",
    "        logits = model(inputs)\n",
    "        next_index = tf.random.categorical(logits[:, -1, :], 1)\n",
    "        return model.int_to_token(next_index)"
   ]
  },
  {
   "cell_type": "code",
   "execution_count": 202,
   "id": "993a0e4b-6e09-4da7-9b80-a8c04fbb92cd",
   "metadata": {
    "tags": []
   },
   "outputs": [
    {
     "data": {
      "text/plain": [
       "<tf.Tensor: shape=(2, 1), dtype=string, numpy=\n",
       "array([[b'+'],\n",
       "       [b'cos']], dtype=object)>"
      ]
     },
     "execution_count": 202,
     "metadata": {},
     "output_type": "execute_result"
    }
   ],
   "source": [
    "model.int_to_token(tf.random.categorical(model(np.array([[\"+\"], [\"sin\"]]))[:, -1, :], 1))"
   ]
  },
  {
   "cell_type": "code",
   "execution_count": 203,
   "id": "aa363ff3-4efd-4d1a-94dc-f3715903f4bc",
   "metadata": {
    "tags": []
   },
   "outputs": [],
   "source": [
    "sampler = Sampler(tokens, 16, 16)"
   ]
  },
  {
   "cell_type": "code",
   "execution_count": 226,
   "id": "2ec944ab-0725-4641-be1e-fdf680197969",
   "metadata": {
    "tags": []
   },
   "outputs": [
    {
     "data": {
      "text/plain": [
       "<tf.Tensor: shape=(2, 1), dtype=string, numpy=\n",
       "array([[b'[UNK]'],\n",
       "       [b'+']], dtype=object)>"
      ]
     },
     "execution_count": 226,
     "metadata": {},
     "output_type": "execute_result"
    }
   ],
   "source": [
    "sampler.sample()"
   ]
  }
 ],
 "metadata": {
  "kernelspec": {
   "display_name": "Python 3 (ipykernel)",
   "language": "python",
   "name": "python3"
  },
  "language_info": {
   "codemirror_mode": {
    "name": "ipython",
    "version": 3
   },
   "file_extension": ".py",
   "mimetype": "text/x-python",
   "name": "python",
   "nbconvert_exporter": "python",
   "pygments_lexer": "ipython3",
   "version": "3.11.6"
  }
 },
 "nbformat": 4,
 "nbformat_minor": 5
}
