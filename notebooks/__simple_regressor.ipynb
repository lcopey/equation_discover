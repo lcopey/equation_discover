{
 "cells": [
  {
   "cell_type": "code",
   "execution_count": 1,
   "id": "0615710c-e339-4a99-80be-d0d7f810cd63",
   "metadata": {
    "tags": []
   },
   "outputs": [
    {
     "name": "stderr",
     "output_type": "stream",
     "text": [
      "2023-12-20 17:36:04.295465: I tensorflow/core/util/port.cc:113] oneDNN custom operations are on. You may see slightly different numerical results due to floating-point round-off errors from different computation orders. To turn them off, set the environment variable `TF_ENABLE_ONEDNN_OPTS=0`.\n",
      "2023-12-20 17:36:04.303686: I external/local_tsl/tsl/cuda/cudart_stub.cc:31] Could not find cuda drivers on your machine, GPU will not be used.\n",
      "2023-12-20 17:36:04.382069: E external/local_xla/xla/stream_executor/cuda/cuda_dnn.cc:9261] Unable to register cuDNN factory: Attempting to register factory for plugin cuDNN when one has already been registered\n",
      "2023-12-20 17:36:04.382098: E external/local_xla/xla/stream_executor/cuda/cuda_fft.cc:607] Unable to register cuFFT factory: Attempting to register factory for plugin cuFFT when one has already been registered\n",
      "2023-12-20 17:36:04.384130: E external/local_xla/xla/stream_executor/cuda/cuda_blas.cc:1515] Unable to register cuBLAS factory: Attempting to register factory for plugin cuBLAS when one has already been registered\n",
      "2023-12-20 17:36:04.403782: I external/local_tsl/tsl/cuda/cudart_stub.cc:31] Could not find cuda drivers on your machine, GPU will not be used.\n",
      "2023-12-20 17:36:04.404511: I tensorflow/core/platform/cpu_feature_guard.cc:182] This TensorFlow binary is optimized to use available CPU instructions in performance-critical operations.\n",
      "To enable the following instructions: AVX2 AVX512F AVX512_VNNI FMA, in other operations, rebuild TensorFlow with the appropriate compiler flags.\n",
      "2023-12-20 17:36:05.513080: W tensorflow/compiler/tf2tensorrt/utils/py_utils.cc:38] TF-TRT Warning: Could not find TensorRT\n"
     ]
    }
   ],
   "source": [
    "import sys\n",
    "from typing import Literal\n",
    "\n",
    "import numpy as np\n",
    "import pandas as pd\n",
    "import plotly.figure_factory as ff\n",
    "import plotly.graph_objects as go\n",
    "import tensorflow as tf\n",
    "from tensorflow.keras.layers import GRU, Dense, Embedding, SimpleRNN, StringLookup\n",
    "from tensorflow.keras.models import Model\n",
    "\n",
    "%load_ext autoreload\n",
    "%autoreload 2\n",
    "\n",
    "sys.path.append(\"../\")\n",
    "from equation_discover import *"
   ]
  },
  {
   "cell_type": "code",
   "execution_count": 2,
   "id": "a7e41b39-557a-4c9f-955b-c622714e3cc1",
   "metadata": {
    "tags": []
   },
   "outputs": [],
   "source": [
    "n_samples = 32\n",
    "sampler = EquationSampler(BASE_TOKENS, 16, 2)\n",
    "(\n",
    "    sequences,\n",
    "    entropies,\n",
    "    log_probs,\n",
    "    counters,\n",
    "    lengths,\n",
    "    sequence_mask,\n",
    ") = sampler.sample_sequence(n_samples)"
   ]
  },
  {
   "cell_type": "code",
   "execution_count": null,
   "id": "330e6d6f-fe16-4cbd-9f55-b24c0913b724",
   "metadata": {
    "tags": []
   },
   "outputs": [],
   "source": [
    "for sequence, length in zip(sequences, lengths):\n",
    "    break"
   ]
  },
  {
   "cell_type": "code",
   "execution_count": null,
   "id": "4aa0c0be-4f04-4445-bf0d-37b86fd3bc58",
   "metadata": {
    "tags": []
   },
   "outputs": [],
   "source": [
    "tree = Node.build_tree(sequence[0:length])\n",
    "tree"
   ]
  },
  {
   "cell_type": "code",
   "execution_count": null,
   "id": "8d0c6b61-78b4-43e0-99a1-66040dd2de3a",
   "metadata": {
    "tags": []
   },
   "outputs": [],
   "source": [
    "X = pd.DataFrame(np.random.randn(100), columns=[\"var_x\"])\n",
    "X = {key: tf.convert_to_tensor(value) for key, value in X.to_dict(\"list\").items()}\n",
    "constants = tf.random.normal([walk(tree, count_constant, current_constant=0)])"
   ]
  },
  {
   "cell_type": "code",
   "execution_count": null,
   "id": "601261ba-c3d2-4e46-9951-17f7a6b57b4f",
   "metadata": {
    "tags": []
   },
   "outputs": [],
   "source": [
    "walk(tree, tf_eval, X=X, constants={\"value\": constants[::-1], \"iter\": 0})"
   ]
  },
  {
   "cell_type": "code",
   "execution_count": null,
   "id": "e68bfdcf-5628-440a-937c-8051c95acc74",
   "metadata": {},
   "outputs": [],
   "source": []
  },
  {
   "cell_type": "code",
   "execution_count": null,
   "id": "7a212061-03c8-4411-a991-da4cd2b22007",
   "metadata": {},
   "outputs": [],
   "source": []
  },
  {
   "cell_type": "code",
   "execution_count": 3,
   "id": "cd06f1e2-2638-4147-91d3-695e026670c0",
   "metadata": {
    "tags": []
   },
   "outputs": [],
   "source": [
    "tree = Node.build_tree(\n",
    "    [\n",
    "        BASE_TOKENS.symbols.index(value)\n",
    "        for value in [\"sin\", \"+\", \"*\", \"const\", \"var_x\", \"const\"]\n",
    "    ]\n",
    ")"
   ]
  },
  {
   "cell_type": "code",
   "execution_count": null,
   "id": "0995eda4-acf3-4580-83e8-c21b829ae69f",
   "metadata": {},
   "outputs": [],
   "source": [
    "X = {\n",
    "    \"var_x\": tf.convert_to_tensor(np.linspace(-2 * np.pi, 2 * np.pi), dtype=tf.float32)\n",
    "}\n",
    "constants = tf.convert_to_tensor(tf.Variable([2.0, 1.0]))"
   ]
  },
  {
   "cell_type": "code",
   "execution_count": null,
   "id": "67883a30-72d6-4f67-986b-73aff858462c",
   "metadata": {
    "tags": []
   },
   "outputs": [],
   "source": [
    "go.Figure(\n",
    "    go.Scatter(\n",
    "        x=X[\"var_x\"].numpy(),\n",
    "        y=walk(tree, tf_eval, X=X, constants={\"iter\": 0, \"value\": constants}).numpy(),\n",
    "    )\n",
    ")"
   ]
  },
  {
   "cell_type": "code",
   "execution_count": null,
   "id": "52e6d6c3-0afa-41f0-ad12-8f927146d406",
   "metadata": {},
   "outputs": [],
   "source": []
  },
  {
   "cell_type": "code",
   "execution_count": null,
   "id": "bfae9d0c-de1f-4654-890e-44873566f029",
   "metadata": {},
   "outputs": [],
   "source": []
  },
  {
   "cell_type": "code",
   "execution_count": null,
   "id": "66fb4a81-1500-4ff3-a6ea-73f2b104d929",
   "metadata": {},
   "outputs": [],
   "source": []
  },
  {
   "cell_type": "code",
   "execution_count": null,
   "id": "ba42a21c-7af8-4647-a45e-64a47395850c",
   "metadata": {},
   "outputs": [],
   "source": []
  },
  {
   "cell_type": "markdown",
   "id": "65c4e898-4c42-425c-ab2d-ef8cfed4aafe",
   "metadata": {
    "tags": []
   },
   "source": [
    "# TODO constraint avoid x / x"
   ]
  },
  {
   "cell_type": "code",
   "execution_count": 55,
   "id": "36aa6e8a-4d49-449a-b48f-c059f5ea562c",
   "metadata": {
    "tags": []
   },
   "outputs": [],
   "source": [
    "from tensorflow.keras.losses import MSE\n",
    "from scipy.optimize import basinhopping, minimize"
   ]
  },
  {
   "cell_type": "code",
   "execution_count": 56,
   "id": "ec8d32a5-510c-406e-b77d-e55f5795b145",
   "metadata": {
    "tags": []
   },
   "outputs": [],
   "source": [
    "X = pd.DataFrame(np.linspace(-2 * np.pi, 2 * np.pi), columns=[\"var_x\"])\n",
    "y = np.sin((X * 2 + 1).squeeze())"
   ]
  },
  {
   "cell_type": "code",
   "execution_count": 57,
   "id": "4d3b4267-e668-496b-a44d-fd9488331269",
   "metadata": {
    "tags": []
   },
   "outputs": [],
   "source": [
    "expression = Expression(tree)"
   ]
  },
  {
   "cell_type": "code",
   "execution_count": 58,
   "id": "baddf5ec-ef77-493f-a2be-4af94b67b2d4",
   "metadata": {
    "tags": []
   },
   "outputs": [],
   "source": [
    "results = {}\n",
    "for T in np.logspace(0, 2, 10):\n",
    "    res = basinhopping(\n",
    "        lambda constants: MSE(y, expression.eval(X, constants)),\n",
    "        expression.constants,\n",
    "        T=T,\n",
    "    )\n",
    "    results[T] = res"
   ]
  },
  {
   "cell_type": "code",
   "execution_count": 60,
   "id": "c8f7abbd-e900-4dcb-b5cf-e1ef3d96f817",
   "metadata": {
    "tags": []
   },
   "outputs": [
    {
     "data": {
      "text/plain": [
       "[array([1.97007085, 0.37227994]),\n",
       " array([1.97007085, 0.37227994]),\n",
       " array([1.97007085, 0.37227994]),\n",
       " array([1.97007085, 0.37227994]),\n",
       " array([1.97007085, 0.37227994]),\n",
       " array([1.97007085, 0.37227994]),\n",
       " array([1.97007085, 0.37227994]),\n",
       " array([1.97007085, 0.37227994]),\n",
       " array([1.97007085, 0.37227994]),\n",
       " array([1.97007085, 0.37227994])]"
      ]
     },
     "execution_count": 60,
     "metadata": {},
     "output_type": "execute_result"
    }
   ],
   "source": [
    "[res.x for result in results]"
   ]
  },
  {
   "cell_type": "code",
   "execution_count": 47,
   "id": "4aa45723-bcc7-4b15-9df1-f27353140e2b",
   "metadata": {
    "tags": []
   },
   "outputs": [],
   "source": [
    "res = expression.fit(X, y)"
   ]
  },
  {
   "cell_type": "code",
   "execution_count": 48,
   "id": "5891c0b5-ff4b-4c86-9a18-51c2b5d0f4e3",
   "metadata": {
    "tags": []
   },
   "outputs": [],
   "source": [
    "expression.constants = res.x"
   ]
  },
  {
   "cell_type": "code",
   "execution_count": 49,
   "id": "46125a04-fe37-4ade-91a9-6531c87e09a3",
   "metadata": {
    "tags": []
   },
   "outputs": [
    {
     "data": {
      "application/vnd.plotly.v1+json": {
       "config": {
        "plotlyServerURL": "https://plot.ly"
       },
       "data": [
        {
         "type": "scatter",
         "y": [
          -0.14131152629852295,
          -0.13309220969676971,
          -0.12486372888088226,
          -0.11662664264440536,
          -0.10838153213262558,
          -0.10012896358966827,
          -0.09186951071023941,
          -0.08360370248556137,
          -0.0753321498632431,
          -0.06705541908740997,
          -0.058774061501026154,
          -0.0504886656999588,
          -0.042199790477752686,
          -0.03390800207853317,
          -0.02561388537287712,
          -0.017318012192845345,
          -0.009020940400660038,
          -0.0007232464267872274,
          0.0075745005160570145,
          0.015871718525886536,
          0.024167852476239204,
          0.032462313771247864,
          0.040754541754722595,
          0.04904396831989288,
          0.05733001232147217,
          0.06561211496591568,
          0.07388969510793686,
          0.08216219395399094,
          0.09042903035879135,
          0.09868963062763214,
          0.10694345831871033,
          0.11518990248441696,
          0.12342843413352966,
          0.13165844976902008,
          0.13987940549850464,
          0.14809072017669678,
          0.15629185736179352,
          0.1644822359085083,
          0.17266127467155457,
          0.18082842230796814,
          0.18898312747478485,
          0.19712482392787933,
          0.20525293052196503,
          0.21336694061756134,
          0.22146622836589813,
          0.22955027222633362,
          0.23761850595474243,
          0.2456703931093216,
          0.25370535254478455,
          0.2617228627204895
         ]
        },
        {
         "type": "scatter",
         "y": [
          0.8414708375930786,
          0.9983252286911011,
          0.8982479572296143,
          0.5669955015182495,
          0.08981888741254807,
          -0.41047292947769165,
          -0.8051245212554932,
          -0.9925675392150879,
          -0.9245606064796448,
          -0.6186062693595886,
          -0.15344570577144623,
          0.35120558738708496,
          0.7654701471328735,
          0.9827312231063843,
          0.9470738768577576,
          0.6676753759384155,
          0.21644198894500732,
          -0.29049527645111084,
          -0.7226700782775879,
          -0.9688565731048584,
          -0.9656955599784851,
          -0.7140007019042969,
          -0.2785487473011017,
          0.22859127819538116,
          0.6769003868103027,
          0.9510007500648499,
          0.9803490042686462,
          0.7573920488357544,
          0.33951085805892944,
          -0.16574770212173462,
          -0.6283491849899292,
          -0.929236888885498,
          -0.990973949432373,
          -0.7976713180541992,
          -0.39907777309417725,
          0.10222303122282028,
          0.5772159099578857,
          0.9036548733711243,
          0.9975267648696899,
          0.834672749042511,
          0.457004576921463,
          -0.03827878460288048,
          -0.5237106084823608,
          -0.8743596076965332,
          -0.9999805688858032,
          -0.8682442903518677,
          -0.5130538940429688,
          -0.025823233649134636,
          0.46805334091186523,
          0.8414711952209473
         ]
        }
       ],
       "layout": {
        "autosize": true,
        "template": {
         "data": {
          "bar": [
           {
            "error_x": {
             "color": "#2a3f5f"
            },
            "error_y": {
             "color": "#2a3f5f"
            },
            "marker": {
             "line": {
              "color": "#E5ECF6",
              "width": 0.5
             },
             "pattern": {
              "fillmode": "overlay",
              "size": 10,
              "solidity": 0.2
             }
            },
            "type": "bar"
           }
          ],
          "barpolar": [
           {
            "marker": {
             "line": {
              "color": "#E5ECF6",
              "width": 0.5
             },
             "pattern": {
              "fillmode": "overlay",
              "size": 10,
              "solidity": 0.2
             }
            },
            "type": "barpolar"
           }
          ],
          "carpet": [
           {
            "aaxis": {
             "endlinecolor": "#2a3f5f",
             "gridcolor": "white",
             "linecolor": "white",
             "minorgridcolor": "white",
             "startlinecolor": "#2a3f5f"
            },
            "baxis": {
             "endlinecolor": "#2a3f5f",
             "gridcolor": "white",
             "linecolor": "white",
             "minorgridcolor": "white",
             "startlinecolor": "#2a3f5f"
            },
            "type": "carpet"
           }
          ],
          "choropleth": [
           {
            "colorbar": {
             "outlinewidth": 0,
             "ticks": ""
            },
            "type": "choropleth"
           }
          ],
          "contour": [
           {
            "colorbar": {
             "outlinewidth": 0,
             "ticks": ""
            },
            "colorscale": [
             [
              0,
              "#0d0887"
             ],
             [
              0.1111111111111111,
              "#46039f"
             ],
             [
              0.2222222222222222,
              "#7201a8"
             ],
             [
              0.3333333333333333,
              "#9c179e"
             ],
             [
              0.4444444444444444,
              "#bd3786"
             ],
             [
              0.5555555555555556,
              "#d8576b"
             ],
             [
              0.6666666666666666,
              "#ed7953"
             ],
             [
              0.7777777777777778,
              "#fb9f3a"
             ],
             [
              0.8888888888888888,
              "#fdca26"
             ],
             [
              1,
              "#f0f921"
             ]
            ],
            "type": "contour"
           }
          ],
          "contourcarpet": [
           {
            "colorbar": {
             "outlinewidth": 0,
             "ticks": ""
            },
            "type": "contourcarpet"
           }
          ],
          "heatmap": [
           {
            "colorbar": {
             "outlinewidth": 0,
             "ticks": ""
            },
            "colorscale": [
             [
              0,
              "#0d0887"
             ],
             [
              0.1111111111111111,
              "#46039f"
             ],
             [
              0.2222222222222222,
              "#7201a8"
             ],
             [
              0.3333333333333333,
              "#9c179e"
             ],
             [
              0.4444444444444444,
              "#bd3786"
             ],
             [
              0.5555555555555556,
              "#d8576b"
             ],
             [
              0.6666666666666666,
              "#ed7953"
             ],
             [
              0.7777777777777778,
              "#fb9f3a"
             ],
             [
              0.8888888888888888,
              "#fdca26"
             ],
             [
              1,
              "#f0f921"
             ]
            ],
            "type": "heatmap"
           }
          ],
          "heatmapgl": [
           {
            "colorbar": {
             "outlinewidth": 0,
             "ticks": ""
            },
            "colorscale": [
             [
              0,
              "#0d0887"
             ],
             [
              0.1111111111111111,
              "#46039f"
             ],
             [
              0.2222222222222222,
              "#7201a8"
             ],
             [
              0.3333333333333333,
              "#9c179e"
             ],
             [
              0.4444444444444444,
              "#bd3786"
             ],
             [
              0.5555555555555556,
              "#d8576b"
             ],
             [
              0.6666666666666666,
              "#ed7953"
             ],
             [
              0.7777777777777778,
              "#fb9f3a"
             ],
             [
              0.8888888888888888,
              "#fdca26"
             ],
             [
              1,
              "#f0f921"
             ]
            ],
            "type": "heatmapgl"
           }
          ],
          "histogram": [
           {
            "marker": {
             "pattern": {
              "fillmode": "overlay",
              "size": 10,
              "solidity": 0.2
             }
            },
            "type": "histogram"
           }
          ],
          "histogram2d": [
           {
            "colorbar": {
             "outlinewidth": 0,
             "ticks": ""
            },
            "colorscale": [
             [
              0,
              "#0d0887"
             ],
             [
              0.1111111111111111,
              "#46039f"
             ],
             [
              0.2222222222222222,
              "#7201a8"
             ],
             [
              0.3333333333333333,
              "#9c179e"
             ],
             [
              0.4444444444444444,
              "#bd3786"
             ],
             [
              0.5555555555555556,
              "#d8576b"
             ],
             [
              0.6666666666666666,
              "#ed7953"
             ],
             [
              0.7777777777777778,
              "#fb9f3a"
             ],
             [
              0.8888888888888888,
              "#fdca26"
             ],
             [
              1,
              "#f0f921"
             ]
            ],
            "type": "histogram2d"
           }
          ],
          "histogram2dcontour": [
           {
            "colorbar": {
             "outlinewidth": 0,
             "ticks": ""
            },
            "colorscale": [
             [
              0,
              "#0d0887"
             ],
             [
              0.1111111111111111,
              "#46039f"
             ],
             [
              0.2222222222222222,
              "#7201a8"
             ],
             [
              0.3333333333333333,
              "#9c179e"
             ],
             [
              0.4444444444444444,
              "#bd3786"
             ],
             [
              0.5555555555555556,
              "#d8576b"
             ],
             [
              0.6666666666666666,
              "#ed7953"
             ],
             [
              0.7777777777777778,
              "#fb9f3a"
             ],
             [
              0.8888888888888888,
              "#fdca26"
             ],
             [
              1,
              "#f0f921"
             ]
            ],
            "type": "histogram2dcontour"
           }
          ],
          "mesh3d": [
           {
            "colorbar": {
             "outlinewidth": 0,
             "ticks": ""
            },
            "type": "mesh3d"
           }
          ],
          "parcoords": [
           {
            "line": {
             "colorbar": {
              "outlinewidth": 0,
              "ticks": ""
             }
            },
            "type": "parcoords"
           }
          ],
          "pie": [
           {
            "automargin": true,
            "type": "pie"
           }
          ],
          "scatter": [
           {
            "fillpattern": {
             "fillmode": "overlay",
             "size": 10,
             "solidity": 0.2
            },
            "type": "scatter"
           }
          ],
          "scatter3d": [
           {
            "line": {
             "colorbar": {
              "outlinewidth": 0,
              "ticks": ""
             }
            },
            "marker": {
             "colorbar": {
              "outlinewidth": 0,
              "ticks": ""
             }
            },
            "type": "scatter3d"
           }
          ],
          "scattercarpet": [
           {
            "marker": {
             "colorbar": {
              "outlinewidth": 0,
              "ticks": ""
             }
            },
            "type": "scattercarpet"
           }
          ],
          "scattergeo": [
           {
            "marker": {
             "colorbar": {
              "outlinewidth": 0,
              "ticks": ""
             }
            },
            "type": "scattergeo"
           }
          ],
          "scattergl": [
           {
            "marker": {
             "colorbar": {
              "outlinewidth": 0,
              "ticks": ""
             }
            },
            "type": "scattergl"
           }
          ],
          "scattermapbox": [
           {
            "marker": {
             "colorbar": {
              "outlinewidth": 0,
              "ticks": ""
             }
            },
            "type": "scattermapbox"
           }
          ],
          "scatterpolar": [
           {
            "marker": {
             "colorbar": {
              "outlinewidth": 0,
              "ticks": ""
             }
            },
            "type": "scatterpolar"
           }
          ],
          "scatterpolargl": [
           {
            "marker": {
             "colorbar": {
              "outlinewidth": 0,
              "ticks": ""
             }
            },
            "type": "scatterpolargl"
           }
          ],
          "scatterternary": [
           {
            "marker": {
             "colorbar": {
              "outlinewidth": 0,
              "ticks": ""
             }
            },
            "type": "scatterternary"
           }
          ],
          "surface": [
           {
            "colorbar": {
             "outlinewidth": 0,
             "ticks": ""
            },
            "colorscale": [
             [
              0,
              "#0d0887"
             ],
             [
              0.1111111111111111,
              "#46039f"
             ],
             [
              0.2222222222222222,
              "#7201a8"
             ],
             [
              0.3333333333333333,
              "#9c179e"
             ],
             [
              0.4444444444444444,
              "#bd3786"
             ],
             [
              0.5555555555555556,
              "#d8576b"
             ],
             [
              0.6666666666666666,
              "#ed7953"
             ],
             [
              0.7777777777777778,
              "#fb9f3a"
             ],
             [
              0.8888888888888888,
              "#fdca26"
             ],
             [
              1,
              "#f0f921"
             ]
            ],
            "type": "surface"
           }
          ],
          "table": [
           {
            "cells": {
             "fill": {
              "color": "#EBF0F8"
             },
             "line": {
              "color": "white"
             }
            },
            "header": {
             "fill": {
              "color": "#C8D4E3"
             },
             "line": {
              "color": "white"
             }
            },
            "type": "table"
           }
          ]
         },
         "layout": {
          "annotationdefaults": {
           "arrowcolor": "#2a3f5f",
           "arrowhead": 0,
           "arrowwidth": 1
          },
          "autotypenumbers": "strict",
          "coloraxis": {
           "colorbar": {
            "outlinewidth": 0,
            "ticks": ""
           }
          },
          "colorscale": {
           "diverging": [
            [
             0,
             "#8e0152"
            ],
            [
             0.1,
             "#c51b7d"
            ],
            [
             0.2,
             "#de77ae"
            ],
            [
             0.3,
             "#f1b6da"
            ],
            [
             0.4,
             "#fde0ef"
            ],
            [
             0.5,
             "#f7f7f7"
            ],
            [
             0.6,
             "#e6f5d0"
            ],
            [
             0.7,
             "#b8e186"
            ],
            [
             0.8,
             "#7fbc41"
            ],
            [
             0.9,
             "#4d9221"
            ],
            [
             1,
             "#276419"
            ]
           ],
           "sequential": [
            [
             0,
             "#0d0887"
            ],
            [
             0.1111111111111111,
             "#46039f"
            ],
            [
             0.2222222222222222,
             "#7201a8"
            ],
            [
             0.3333333333333333,
             "#9c179e"
            ],
            [
             0.4444444444444444,
             "#bd3786"
            ],
            [
             0.5555555555555556,
             "#d8576b"
            ],
            [
             0.6666666666666666,
             "#ed7953"
            ],
            [
             0.7777777777777778,
             "#fb9f3a"
            ],
            [
             0.8888888888888888,
             "#fdca26"
            ],
            [
             1,
             "#f0f921"
            ]
           ],
           "sequentialminus": [
            [
             0,
             "#0d0887"
            ],
            [
             0.1111111111111111,
             "#46039f"
            ],
            [
             0.2222222222222222,
             "#7201a8"
            ],
            [
             0.3333333333333333,
             "#9c179e"
            ],
            [
             0.4444444444444444,
             "#bd3786"
            ],
            [
             0.5555555555555556,
             "#d8576b"
            ],
            [
             0.6666666666666666,
             "#ed7953"
            ],
            [
             0.7777777777777778,
             "#fb9f3a"
            ],
            [
             0.8888888888888888,
             "#fdca26"
            ],
            [
             1,
             "#f0f921"
            ]
           ]
          },
          "colorway": [
           "#636efa",
           "#EF553B",
           "#00cc96",
           "#ab63fa",
           "#FFA15A",
           "#19d3f3",
           "#FF6692",
           "#B6E880",
           "#FF97FF",
           "#FECB52"
          ],
          "font": {
           "color": "#2a3f5f"
          },
          "geo": {
           "bgcolor": "white",
           "lakecolor": "white",
           "landcolor": "#E5ECF6",
           "showlakes": true,
           "showland": true,
           "subunitcolor": "white"
          },
          "hoverlabel": {
           "align": "left"
          },
          "hovermode": "closest",
          "mapbox": {
           "style": "light"
          },
          "paper_bgcolor": "white",
          "plot_bgcolor": "#E5ECF6",
          "polar": {
           "angularaxis": {
            "gridcolor": "white",
            "linecolor": "white",
            "ticks": ""
           },
           "bgcolor": "#E5ECF6",
           "radialaxis": {
            "gridcolor": "white",
            "linecolor": "white",
            "ticks": ""
           }
          },
          "scene": {
           "xaxis": {
            "backgroundcolor": "#E5ECF6",
            "gridcolor": "white",
            "gridwidth": 2,
            "linecolor": "white",
            "showbackground": true,
            "ticks": "",
            "zerolinecolor": "white"
           },
           "yaxis": {
            "backgroundcolor": "#E5ECF6",
            "gridcolor": "white",
            "gridwidth": 2,
            "linecolor": "white",
            "showbackground": true,
            "ticks": "",
            "zerolinecolor": "white"
           },
           "zaxis": {
            "backgroundcolor": "#E5ECF6",
            "gridcolor": "white",
            "gridwidth": 2,
            "linecolor": "white",
            "showbackground": true,
            "ticks": "",
            "zerolinecolor": "white"
           }
          },
          "shapedefaults": {
           "line": {
            "color": "#2a3f5f"
           }
          },
          "ternary": {
           "aaxis": {
            "gridcolor": "white",
            "linecolor": "white",
            "ticks": ""
           },
           "baxis": {
            "gridcolor": "white",
            "linecolor": "white",
            "ticks": ""
           },
           "bgcolor": "#E5ECF6",
           "caxis": {
            "gridcolor": "white",
            "linecolor": "white",
            "ticks": ""
           }
          },
          "title": {
           "x": 0.05
          },
          "xaxis": {
           "automargin": true,
           "gridcolor": "white",
           "linecolor": "white",
           "ticks": "",
           "title": {
            "standoff": 15
           },
           "zerolinecolor": "white",
           "zerolinewidth": 2
          },
          "yaxis": {
           "automargin": true,
           "gridcolor": "white",
           "linecolor": "white",
           "ticks": "",
           "title": {
            "standoff": 15
           },
           "zerolinecolor": "white",
           "zerolinewidth": 2
          }
         }
        },
        "xaxis": {
         "autorange": true,
         "range": [
          0,
          49
         ]
        },
        "yaxis": {
         "autorange": true,
         "range": [
          -1.1109975576400757,
          1.1093422174453735
         ],
         "type": "linear"
        }
       }
      },
      "image/png": "[encoded data removed]",
      "text/html": [
       "<div>                            <div id=\"d8a3a6d5-511b-46c4-a243-372c3bfaa931\" class=\"plotly-graph-div\" style=\"height:525px; width:100%;\"></div>            <script type=\"text/javascript\">                require([\"plotly\"], function(Plotly) {                    window.PLOTLYENV=window.PLOTLYENV || {};                                    if (document.getElementById(\"d8a3a6d5-511b-46c4-a243-372c3bfaa931\")) {                    Plotly.newPlot(                        \"d8a3a6d5-511b-46c4-a243-372c3bfaa931\",                        [{\"y\":[-0.14131152629852295,-0.13309220969676971,-0.12486372888088226,-0.11662664264440536,-0.10838153213262558,-0.10012896358966827,-0.09186951071023941,-0.08360370248556137,-0.0753321498632431,-0.06705541908740997,-0.058774061501026154,-0.0504886656999588,-0.042199790477752686,-0.03390800207853317,-0.02561388537287712,-0.017318012192845345,-0.009020940400660038,-0.0007232464267872274,0.0075745005160570145,0.015871718525886536,0.024167852476239204,0.032462313771247864,0.040754541754722595,0.04904396831989288,0.05733001232147217,0.06561211496591568,0.07388969510793686,0.08216219395399094,0.09042903035879135,0.09868963062763214,0.10694345831871033,0.11518990248441696,0.12342843413352966,0.13165844976902008,0.13987940549850464,0.14809072017669678,0.15629185736179352,0.1644822359085083,0.17266127467155457,0.18082842230796814,0.18898312747478485,0.19712482392787933,0.20525293052196503,0.21336694061756134,0.22146622836589813,0.22955027222633362,0.23761850595474243,0.2456703931093216,0.25370535254478455,0.2617228627204895],\"type\":\"scatter\"},{\"y\":[0.8414708375930786,0.9983252286911011,0.8982479572296143,0.5669955015182495,0.08981888741254807,-0.41047292947769165,-0.8051245212554932,-0.9925675392150879,-0.9245606064796448,-0.6186062693595886,-0.15344570577144623,0.35120558738708496,0.7654701471328735,0.9827312231063843,0.9470738768577576,0.6676753759384155,0.21644198894500732,-0.29049527645111084,-0.7226700782775879,-0.9688565731048584,-0.9656955599784851,-0.7140007019042969,-0.2785487473011017,0.22859127819538116,0.6769003868103027,0.9510007500648499,0.9803490042686462,0.7573920488357544,0.33951085805892944,-0.16574770212173462,-0.6283491849899292,-0.929236888885498,-0.990973949432373,-0.7976713180541992,-0.39907777309417725,0.10222303122282028,0.5772159099578857,0.9036548733711243,0.9975267648696899,0.834672749042511,0.457004576921463,-0.03827878460288048,-0.5237106084823608,-0.8743596076965332,-0.9999805688858032,-0.8682442903518677,-0.5130538940429688,-0.025823233649134636,0.46805334091186523,0.8414711952209473],\"type\":\"scatter\"}],                        {\"template\":{\"data\":{\"histogram2dcontour\":[{\"type\":\"histogram2dcontour\",\"colorbar\":{\"outlinewidth\":0,\"ticks\":\"\"},\"colorscale\":[[0.0,\"#0d0887\"],[0.1111111111111111,\"#46039f\"],[0.2222222222222222,\"#7201a8\"],[0.3333333333333333,\"#9c179e\"],[0.4444444444444444,\"#bd3786\"],[0.5555555555555556,\"#d8576b\"],[0.6666666666666666,\"#ed7953\"],[0.7777777777777778,\"#fb9f3a\"],[0.8888888888888888,\"#fdca26\"],[1.0,\"#f0f921\"]]}],\"choropleth\":[{\"type\":\"choropleth\",\"colorbar\":{\"outlinewidth\":0,\"ticks\":\"\"}}],\"histogram2d\":[{\"type\":\"histogram2d\",\"colorbar\":{\"outlinewidth\":0,\"ticks\":\"\"},\"colorscale\":[[0.0,\"#0d0887\"],[0.1111111111111111,\"#46039f\"],[0.2222222222222222,\"#7201a8\"],[0.3333333333333333,\"#9c179e\"],[0.4444444444444444,\"#bd3786\"],[0.5555555555555556,\"#d8576b\"],[0.6666666666666666,\"#ed7953\"],[0.7777777777777778,\"#fb9f3a\"],[0.8888888888888888,\"#fdca26\"],[1.0,\"#f0f921\"]]}],\"heatmap\":[{\"type\":\"heatmap\",\"colorbar\":{\"outlinewidth\":0,\"ticks\":\"\"},\"colorscale\":[[0.0,\"#0d0887\"],[0.1111111111111111,\"#46039f\"],[0.2222222222222222,\"#7201a8\"],[0.3333333333333333,\"#9c179e\"],[0.4444444444444444,\"#bd3786\"],[0.5555555555555556,\"#d8576b\"],[0.6666666666666666,\"#ed7953\"],[0.7777777777777778,\"#fb9f3a\"],[0.8888888888888888,\"#fdca26\"],[1.0,\"#f0f921\"]]}],\"heatmapgl\":[{\"type\":\"heatmapgl\",\"colorbar\":{\"outlinewidth\":0,\"ticks\":\"\"},\"colorscale\":[[0.0,\"#0d0887\"],[0.1111111111111111,\"#46039f\"],[0.2222222222222222,\"#7201a8\"],[0.3333333333333333,\"#9c179e\"],[0.4444444444444444,\"#bd3786\"],[0.5555555555555556,\"#d8576b\"],[0.6666666666666666,\"#ed7953\"],[0.7777777777777778,\"#fb9f3a\"],[0.8888888888888888,\"#fdca26\"],[1.0,\"#f0f921\"]]}],\"contourcarpet\":[{\"type\":\"contourcarpet\",\"colorbar\":{\"outlinewidth\":0,\"ticks\":\"\"}}],\"contour\":[{\"type\":\"contour\",\"colorbar\":{\"outlinewidth\":0,\"ticks\":\"\"},\"colorscale\":[[0.0,\"#0d0887\"],[0.1111111111111111,\"#46039f\"],[0.2222222222222222,\"#7201a8\"],[0.3333333333333333,\"#9c179e\"],[0.4444444444444444,\"#bd3786\"],[0.5555555555555556,\"#d8576b\"],[0.6666666666666666,\"#ed7953\"],[0.7777777777777778,\"#fb9f3a\"],[0.8888888888888888,\"#fdca26\"],[1.0,\"#f0f921\"]]}],\"surface\":[{\"type\":\"surface\",\"colorbar\":{\"outlinewidth\":0,\"ticks\":\"\"},\"colorscale\":[[0.0,\"#0d0887\"],[0.1111111111111111,\"#46039f\"],[0.2222222222222222,\"#7201a8\"],[0.3333333333333333,\"#9c179e\"],[0.4444444444444444,\"#bd3786\"],[0.5555555555555556,\"#d8576b\"],[0.6666666666666666,\"#ed7953\"],[0.7777777777777778,\"#fb9f3a\"],[0.8888888888888888,\"#fdca26\"],[1.0,\"#f0f921\"]]}],\"mesh3d\":[{\"type\":\"mesh3d\",\"colorbar\":{\"outlinewidth\":0,\"ticks\":\"\"}}],\"scatter\":[{\"fillpattern\":{\"fillmode\":\"overlay\",\"size\":10,\"solidity\":0.2},\"type\":\"scatter\"}],\"parcoords\":[{\"type\":\"parcoords\",\"line\":{\"colorbar\":{\"outlinewidth\":0,\"ticks\":\"\"}}}],\"scatterpolargl\":[{\"type\":\"scatterpolargl\",\"marker\":{\"colorbar\":{\"outlinewidth\":0,\"ticks\":\"\"}}}],\"bar\":[{\"error_x\":{\"color\":\"#2a3f5f\"},\"error_y\":{\"color\":\"#2a3f5f\"},\"marker\":{\"line\":{\"color\":\"#E5ECF6\",\"width\":0.5},\"pattern\":{\"fillmode\":\"overlay\",\"size\":10,\"solidity\":0.2}},\"type\":\"bar\"}],\"scattergeo\":[{\"type\":\"scattergeo\",\"marker\":{\"colorbar\":{\"outlinewidth\":0,\"ticks\":\"\"}}}],\"scatterpolar\":[{\"type\":\"scatterpolar\",\"marker\":{\"colorbar\":{\"outlinewidth\":0,\"ticks\":\"\"}}}],\"histogram\":[{\"marker\":{\"pattern\":{\"fillmode\":\"overlay\",\"size\":10,\"solidity\":0.2}},\"type\":\"histogram\"}],\"scattergl\":[{\"type\":\"scattergl\",\"marker\":{\"colorbar\":{\"outlinewidth\":0,\"ticks\":\"\"}}}],\"scatter3d\":[{\"type\":\"scatter3d\",\"line\":{\"colorbar\":{\"outlinewidth\":0,\"ticks\":\"\"}},\"marker\":{\"colorbar\":{\"outlinewidth\":0,\"ticks\":\"\"}}}],\"scattermapbox\":[{\"type\":\"scattermapbox\",\"marker\":{\"colorbar\":{\"outlinewidth\":0,\"ticks\":\"\"}}}],\"scatterternary\":[{\"type\":\"scatterternary\",\"marker\":{\"colorbar\":{\"outlinewidth\":0,\"ticks\":\"\"}}}],\"scattercarpet\":[{\"type\":\"scattercarpet\",\"marker\":{\"colorbar\":{\"outlinewidth\":0,\"ticks\":\"\"}}}],\"carpet\":[{\"aaxis\":{\"endlinecolor\":\"#2a3f5f\",\"gridcolor\":\"white\",\"linecolor\":\"white\",\"minorgridcolor\":\"white\",\"startlinecolor\":\"#2a3f5f\"},\"baxis\":{\"endlinecolor\":\"#2a3f5f\",\"gridcolor\":\"white\",\"linecolor\":\"white\",\"minorgridcolor\":\"white\",\"startlinecolor\":\"#2a3f5f\"},\"type\":\"carpet\"}],\"table\":[{\"cells\":{\"fill\":{\"color\":\"#EBF0F8\"},\"line\":{\"color\":\"white\"}},\"header\":{\"fill\":{\"color\":\"#C8D4E3\"},\"line\":{\"color\":\"white\"}},\"type\":\"table\"}],\"barpolar\":[{\"marker\":{\"line\":{\"color\":\"#E5ECF6\",\"width\":0.5},\"pattern\":{\"fillmode\":\"overlay\",\"size\":10,\"solidity\":0.2}},\"type\":\"barpolar\"}],\"pie\":[{\"automargin\":true,\"type\":\"pie\"}]},\"layout\":{\"autotypenumbers\":\"strict\",\"colorway\":[\"#636efa\",\"#EF553B\",\"#00cc96\",\"#ab63fa\",\"#FFA15A\",\"#19d3f3\",\"#FF6692\",\"#B6E880\",\"#FF97FF\",\"#FECB52\"],\"font\":{\"color\":\"#2a3f5f\"},\"hovermode\":\"closest\",\"hoverlabel\":{\"align\":\"left\"},\"paper_bgcolor\":\"white\",\"plot_bgcolor\":\"#E5ECF6\",\"polar\":{\"bgcolor\":\"#E5ECF6\",\"angularaxis\":{\"gridcolor\":\"white\",\"linecolor\":\"white\",\"ticks\":\"\"},\"radialaxis\":{\"gridcolor\":\"white\",\"linecolor\":\"white\",\"ticks\":\"\"}},\"ternary\":{\"bgcolor\":\"#E5ECF6\",\"aaxis\":{\"gridcolor\":\"white\",\"linecolor\":\"white\",\"ticks\":\"\"},\"baxis\":{\"gridcolor\":\"white\",\"linecolor\":\"white\",\"ticks\":\"\"},\"caxis\":{\"gridcolor\":\"white\",\"linecolor\":\"white\",\"ticks\":\"\"}},\"coloraxis\":{\"colorbar\":{\"outlinewidth\":0,\"ticks\":\"\"}},\"colorscale\":{\"sequential\":[[0.0,\"#0d0887\"],[0.1111111111111111,\"#46039f\"],[0.2222222222222222,\"#7201a8\"],[0.3333333333333333,\"#9c179e\"],[0.4444444444444444,\"#bd3786\"],[0.5555555555555556,\"#d8576b\"],[0.6666666666666666,\"#ed7953\"],[0.7777777777777778,\"#fb9f3a\"],[0.8888888888888888,\"#fdca26\"],[1.0,\"#f0f921\"]],\"sequentialminus\":[[0.0,\"#0d0887\"],[0.1111111111111111,\"#46039f\"],[0.2222222222222222,\"#7201a8\"],[0.3333333333333333,\"#9c179e\"],[0.4444444444444444,\"#bd3786\"],[0.5555555555555556,\"#d8576b\"],[0.6666666666666666,\"#ed7953\"],[0.7777777777777778,\"#fb9f3a\"],[0.8888888888888888,\"#fdca26\"],[1.0,\"#f0f921\"]],\"diverging\":[[0,\"#8e0152\"],[0.1,\"#c51b7d\"],[0.2,\"#de77ae\"],[0.3,\"#f1b6da\"],[0.4,\"#fde0ef\"],[0.5,\"#f7f7f7\"],[0.6,\"#e6f5d0\"],[0.7,\"#b8e186\"],[0.8,\"#7fbc41\"],[0.9,\"#4d9221\"],[1,\"#276419\"]]},\"xaxis\":{\"gridcolor\":\"white\",\"linecolor\":\"white\",\"ticks\":\"\",\"title\":{\"standoff\":15},\"zerolinecolor\":\"white\",\"automargin\":true,\"zerolinewidth\":2},\"yaxis\":{\"gridcolor\":\"white\",\"linecolor\":\"white\",\"ticks\":\"\",\"title\":{\"standoff\":15},\"zerolinecolor\":\"white\",\"automargin\":true,\"zerolinewidth\":2},\"scene\":{\"xaxis\":{\"backgroundcolor\":\"#E5ECF6\",\"gridcolor\":\"white\",\"linecolor\":\"white\",\"showbackground\":true,\"ticks\":\"\",\"zerolinecolor\":\"white\",\"gridwidth\":2},\"yaxis\":{\"backgroundcolor\":\"#E5ECF6\",\"gridcolor\":\"white\",\"linecolor\":\"white\",\"showbackground\":true,\"ticks\":\"\",\"zerolinecolor\":\"white\",\"gridwidth\":2},\"zaxis\":{\"backgroundcolor\":\"#E5ECF6\",\"gridcolor\":\"white\",\"linecolor\":\"white\",\"showbackground\":true,\"ticks\":\"\",\"zerolinecolor\":\"white\",\"gridwidth\":2}},\"shapedefaults\":{\"line\":{\"color\":\"#2a3f5f\"}},\"annotationdefaults\":{\"arrowcolor\":\"#2a3f5f\",\"arrowhead\":0,\"arrowwidth\":1},\"geo\":{\"bgcolor\":\"white\",\"landcolor\":\"#E5ECF6\",\"subunitcolor\":\"white\",\"showland\":true,\"showlakes\":true,\"lakecolor\":\"white\"},\"title\":{\"x\":0.05},\"mapbox\":{\"style\":\"light\"}}}},                        {\"responsive\": true}                    ).then(function(){\n",
       "                            \n",
       "var gd = document.getElementById('d8a3a6d5-511b-46c4-a243-372c3bfaa931');\n",
       "var x = new MutationObserver(function (mutations, observer) {{\n",
       "        var display = window.getComputedStyle(gd).display;\n",
       "        if (!display || display === 'none') {{\n",
       "            console.log([gd, 'removed!']);\n",
       "            Plotly.purge(gd);\n",
       "            observer.disconnect();\n",
       "        }}\n",
       "}});\n",
       "\n",
       "// Listen for the removal of the full notebook cells\n",
       "var notebookContainer = gd.closest('#notebook-container');\n",
       "if (notebookContainer) {{\n",
       "    x.observe(notebookContainer, {childList: true});\n",
       "}}\n",
       "\n",
       "// Listen for the clearing of the current output cell\n",
       "var outputEl = gd.closest('.output');\n",
       "if (outputEl) {{\n",
       "    x.observe(outputEl, {childList: true});\n",
       "}}\n",
       "\n",
       "                        })                };                });            </script>        </div>"
      ]
     },
     "metadata": {},
     "output_type": "display_data"
    }
   ],
   "source": [
    "go.Figure(\n",
    "    [go.Scatter(y=expression.eval(X, res.x)), go.Scatter(y=expression.eval(X, [2, 1]))]\n",
    ")"
   ]
  },
  {
   "cell_type": "code",
   "execution_count": null,
   "id": "460e47b4-1685-460d-912c-f587b0edde91",
   "metadata": {
    "tags": []
   },
   "outputs": [],
   "source": [
    "model = EvalModel(tree)\n",
    "model.compile(optimizer=RMSprop(learning_rate=0.05), loss=\"mse\")\n",
    "model.fit(\n",
    "    X,\n",
    "    y,\n",
    "    batch_size=X.shape[0],\n",
    "    epochs=1000,\n",
    "    callbacks=[\n",
    "        EarlyStopping(monitor=\"loss\", patience=10, start_from_epoch=10, min_delta=0)\n",
    "    ],\n",
    ")\n",
    "model.constants"
   ]
  },
  {
   "cell_type": "code",
   "execution_count": null,
   "id": "2a773d9e-fe21-45ca-810f-5d22984e9fde",
   "metadata": {
    "tags": []
   },
   "outputs": [],
   "source": [
    "def step(tree, X, y, constants, optimizer: Optimizer):\n",
    "    with tf.GradientTape() as tape:\n",
    "        y_pred = walk(tree, tf_eval, X=X, constants={\"iter\": 0, \"value\": constants})\n",
    "        loss = MSE(y, y_pred)\n",
    "    grads = tape.gradient(loss, constants)\n",
    "    optimizer.apply_gradients([(grads, constants)])\n",
    "    return grads, loss\n",
    "\n",
    "\n",
    "def optimize(\n",
    "    tree, X: pd.DataFrame, y: pd.Series, constants: tf.Variable, max_steps: int = 100\n",
    "):\n",
    "    # optimizer = SGD(learning_rate=0.1)\n",
    "    optimizer = RMSprop(learning_rate=0.1)\n",
    "\n",
    "    if isinstance(X, pd.DataFrame):\n",
    "        X = format_as_dict_of_tensor(X)\n",
    "\n",
    "    if isinstance(y, pd.Series):\n",
    "        y = tf.convert_to_tensor(y)\n",
    "\n",
    "    for n in range(max_steps):\n",
    "        grads, loss = step(tree, X, y, constants, optimizer)\n",
    "    return constants\n",
    "\n",
    "\n",
    "def optimize_constants(tree, X: pd.DataFrame, y: pd.Series, max_steps: int = 100):\n",
    "    num_constants = walk(tree, count_constant)\n",
    "    constants = tf.Variable(np.random.randn(num_constants), dtype=tf.float32)\n",
    "    return optimize(tree, X, y, constants, max_steps)"
   ]
  },
  {
   "cell_type": "code",
   "execution_count": null,
   "id": "3a1523d2-1b15-4357-b3d8-54d253426556",
   "metadata": {
    "tags": []
   },
   "outputs": [],
   "source": [
    "X = pd.DataFrame(np.linspace(-2 * np.pi, 2 * np.pi), columns=[\"var_x\"])\n",
    "y = np.sin((X * 2 + 1).squeeze())"
   ]
  },
  {
   "cell_type": "code",
   "execution_count": null,
   "id": "9bea938a-5cb7-4adf-aec2-8189697c82f2",
   "metadata": {
    "tags": []
   },
   "outputs": [],
   "source": [
    "model.fit(X, y)"
   ]
  },
  {
   "cell_type": "code",
   "execution_count": null,
   "id": "5c0a3a6f-8e1f-43dc-9042-f514d480a6ce",
   "metadata": {
    "tags": []
   },
   "outputs": [],
   "source": [
    "xv, yv = np.meshgrid(np.linspace(-4, 4), np.linspace(-4, 4))"
   ]
  },
  {
   "cell_type": "code",
   "execution_count": null,
   "id": "8bbd0283-0b17-4d1e-8985-a7b1930a5ab7",
   "metadata": {
    "tags": []
   },
   "outputs": [],
   "source": [
    "losses = np.empty_like(xv)\n",
    "grads = np.empty((50, 50, 2))\n",
    "for i in range(50):\n",
    "    for j in range(50):\n",
    "        constants = tf.Variable([xv[i, j], yv[i, j]])\n",
    "        with tf.GradientTape() as tape:\n",
    "            y_pred = walk(tree, tf_eval, X=X, constants={\"iter\": 0, \"value\": constants})\n",
    "            loss = MSE(y, y_pred)\n",
    "        losses[i, j] = loss.numpy()\n",
    "        grad = tape.gradient(loss, constants)\n",
    "        grads[i, j] = grad.numpy()"
   ]
  },
  {
   "cell_type": "code",
   "execution_count": null,
   "id": "22b99aa7-bb8b-4dc2-ba3b-ba425f99dc57",
   "metadata": {
    "tags": []
   },
   "outputs": [],
   "source": [
    "go.Figure(\n",
    "    go.Contour(x=np.linspace(-4, 4), y=np.linspace(-4, 4), z=losses, colorscale=\"RdBu\"),\n",
    ")"
   ]
  },
  {
   "cell_type": "code",
   "execution_count": null,
   "id": "c4987729-d883-46fc-b956-6e94b9e3b8d3",
   "metadata": {
    "tags": []
   },
   "outputs": [],
   "source": [
    "ff.create_quiver(xv, yv, grads[:, :, 0], grads[:, :, 1], scale=0.05, arrow_scale=0.25)"
   ]
  },
  {
   "cell_type": "code",
   "execution_count": null,
   "id": "31b04e4d-2695-479e-8131-0e77ba7089fa",
   "metadata": {
    "tags": []
   },
   "outputs": [],
   "source": [
    "losses"
   ]
  },
  {
   "cell_type": "code",
   "execution_count": null,
   "id": "99af46b9-2993-4d25-9f3a-e8790430c4ae",
   "metadata": {
    "tags": []
   },
   "outputs": [],
   "source": [
    "grad"
   ]
  },
  {
   "cell_type": "code",
   "execution_count": null,
   "id": "99ccb260-ddf7-4368-b811-33b910574002",
   "metadata": {
    "tags": []
   },
   "outputs": [],
   "source": [
    "constants = optimize_constants(tree, X, y)"
   ]
  },
  {
   "cell_type": "code",
   "execution_count": null,
   "id": "c885c11f-4fe6-4e96-b157-95d5ae4c79ee",
   "metadata": {
    "tags": []
   },
   "outputs": [],
   "source": [
    "constants"
   ]
  },
  {
   "cell_type": "code",
   "execution_count": null,
   "id": "6d0fc7db-e3bc-4713-994a-cdf5b5c9f9fb",
   "metadata": {
    "tags": []
   },
   "outputs": [],
   "source": [
    "go.Figure(\n",
    "    [\n",
    "        go.Scatter(\n",
    "            x=X.squeeze(),\n",
    "            y=walk(\n",
    "                tree, tf_eval, X=X, constants={\"iter\": 0, \"value\": constants}\n",
    "            ).numpy(),\n",
    "        ),\n",
    "        go.Scatter(x=X.squeeze(), y=y),\n",
    "    ]\n",
    ")"
   ]
  },
  {
   "cell_type": "code",
   "execution_count": null,
   "id": "1c122751-dd7c-49ce-93cf-e6288bcedcbc",
   "metadata": {},
   "outputs": [],
   "source": []
  }
 ],
 "metadata": {
  "kernelspec": {
   "display_name": "Python 3 (ipykernel)",
   "language": "python",
   "name": "python3"
  },
  "language_info": {
   "codemirror_mode": {
    "name": "ipython",
    "version": 3
   },
   "file_extension": ".py",
   "mimetype": "text/x-python",
   "name": "python",
   "nbconvert_exporter": "python",
   "pygments_lexer": "ipython3",
   "version": "3.11.6"
  }
 },
 "nbformat": 4,
 "nbformat_minor": 5
}
