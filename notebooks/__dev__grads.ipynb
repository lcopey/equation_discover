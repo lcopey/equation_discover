{
 "cells": [
  {
   "cell_type": "code",
   "execution_count": 1,
   "id": "bdf95758-405c-4349-bafd-cc9c7bd70f7e",
   "metadata": {
    "tags": []
   },
   "outputs": [
    {
     "name": "stderr",
     "output_type": "stream",
     "text": [
      "2023-12-26 20:50:47.628068: I tensorflow/core/util/port.cc:113] oneDNN custom operations are on. You may see slightly different numerical results due to floating-point round-off errors from different computation orders. To turn them off, set the environment variable `TF_ENABLE_ONEDNN_OPTS=0`.\n",
      "2023-12-26 20:50:47.630675: I external/local_tsl/tsl/cuda/cudart_stub.cc:31] Could not find cuda drivers on your machine, GPU will not be used.\n",
      "2023-12-26 20:50:47.662663: E external/local_xla/xla/stream_executor/cuda/cuda_dnn.cc:9261] Unable to register cuDNN factory: Attempting to register factory for plugin cuDNN when one has already been registered\n",
      "2023-12-26 20:50:47.662689: E external/local_xla/xla/stream_executor/cuda/cuda_fft.cc:607] Unable to register cuFFT factory: Attempting to register factory for plugin cuFFT when one has already been registered\n",
      "2023-12-26 20:50:47.663847: E external/local_xla/xla/stream_executor/cuda/cuda_blas.cc:1515] Unable to register cuBLAS factory: Attempting to register factory for plugin cuBLAS when one has already been registered\n",
      "2023-12-26 20:50:47.669408: I external/local_tsl/tsl/cuda/cudart_stub.cc:31] Could not find cuda drivers on your machine, GPU will not be used.\n",
      "2023-12-26 20:50:47.669998: I tensorflow/core/platform/cpu_feature_guard.cc:182] This TensorFlow binary is optimized to use available CPU instructions in performance-critical operations.\n",
      "To enable the following instructions: AVX2 AVX512F AVX512_VNNI FMA, in other operations, rebuild TensorFlow with the appropriate compiler flags.\n",
      "2023-12-26 20:50:48.555142: W tensorflow/compiler/tf2tensorrt/utils/py_utils.cc:38] TF-TRT Warning: Could not find TensorRT\n"
     ]
    }
   ],
   "source": [
    "import sys\n",
    "from typing import Literal\n",
    "\n",
    "import numpy as np\n",
    "import pandas as pd\n",
    "import plotly.figure_factory as ff\n",
    "import plotly.graph_objects as go\n",
    "import tensorflow as tf\n",
    "\n",
    "from tensorflow.keras.layers import GRU, Dense, Embedding, SimpleRNN, StringLookup\n",
    "from tensorflow.keras.models import Model\n",
    "\n",
    "%load_ext autoreload\n",
    "%autoreload 2\n",
    "\n",
    "sys.path.append(\"../\")\n",
    "from equation_discover import *"
   ]
  },
  {
   "cell_type": "code",
   "execution_count": 2,
   "id": "a64d3c71-41e6-43ec-b119-65cb52bda3cb",
   "metadata": {
    "tags": []
   },
   "outputs": [],
   "source": [
    "sampler = RNNSampler(BASE_TOKENS, 16, 1)\n",
    "loss_func = SymbolicLoss()"
   ]
  },
  {
   "cell_type": "code",
   "execution_count": 3,
   "id": "da34da76-69b7-410f-bda3-5fb7a27ddbbd",
   "metadata": {
    "tags": []
   },
   "outputs": [],
   "source": [
    "X = pd.DataFrame(np.linspace(-2 * np.pi, 2 * np.pi), columns=[\"var_x\"])\n",
    "y = np.sin((X * 2 + 1).squeeze())\n",
    "\n",
    "\n",
    "X = pandas_to_tensor(X)\n",
    "y = tf.convert_to_tensor(y, dtype=tf.float32)\n",
    "constants = tf.Variable([0.0, 0.0, 0.0])"
   ]
  },
  {
   "cell_type": "markdown",
   "id": "3a1ed0ca-bb10-48c6-8d45-0dcaa94257a2",
   "metadata": {},
   "source": [
    "# Test sampler"
   ]
  },
  {
   "cell_type": "code",
   "execution_count": null,
   "id": "5ead9a26-f34f-49d9-8812-6ef1c84d68ef",
   "metadata": {
    "tags": []
   },
   "outputs": [],
   "source": [
    "with tf.GradientTape() as tape:\n",
    "    sequences, lengths, entropies, log_probs = sampler.sample(1)\n",
    "\n",
    "tape.gradient(log_probs, sampler.variables)"
   ]
  },
  {
   "cell_type": "code",
   "execution_count": null,
   "id": "e81ec120-4412-45a5-9d79-d6d9ccde5c15",
   "metadata": {},
   "outputs": [],
   "source": [
    "with tf.GradientTape() as tape:\n",
    "    sequences, lengths, entropies, log_probs = sampler.sample(10)\n",
    "    y_pred = []\n",
    "    for sequence, length in zip(sequences, lengths):\n",
    "        tree = Node.from_sequence(sequence[:length], BASE_TOKENS)\n",
    "        y_pred.append(tree.tf_eval(X, constants=constants))\n",
    "    y_pred = tf.stack(y_pred)\n",
    "    loss = loss_func(y, y_pred, entropies, log_probs)\n",
    "    print([var.name for var in tape.watched_variables()])\n",
    "\n",
    "\n",
    "grads = tape.gradient(loss, sampler.variables)"
   ]
  },
  {
   "cell_type": "markdown",
   "id": "431719d6-f574-492d-97fb-104023452528",
   "metadata": {},
   "source": [
    "# Test sampler"
   ]
  },
  {
   "cell_type": "code",
   "execution_count": null,
   "id": "24b961f8-31b6-420a-ae81-e0b09e9cc081",
   "metadata": {},
   "outputs": [],
   "source": []
  }
 ],
 "metadata": {
  "kernelspec": {
   "display_name": "Python 3 (ipykernel)",
   "language": "python",
   "name": "python3"
  },
  "language_info": {
   "codemirror_mode": {
    "name": "ipython",
    "version": 3
   },
   "file_extension": ".py",
   "mimetype": "text/x-python",
   "name": "python",
   "nbconvert_exporter": "python",
   "pygments_lexer": "ipython3",
   "version": "3.11.6"
  }
 },
 "nbformat": 4,
 "nbformat_minor": 5
}
