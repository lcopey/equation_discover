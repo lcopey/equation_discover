{
 "cells": [
  {
   "cell_type": "code",
   "execution_count": 1,
   "id": "898b0d3d-9436-4052-b38b-dae1b0c8f9a4",
   "metadata": {
    "tags": []
   },
   "outputs": [
    {
     "name": "stderr",
     "output_type": "stream",
     "text": [
      "2023-12-28 19:46:52.649660: I tensorflow/core/platform/cpu_feature_guard.cc:182] This TensorFlow binary is optimized to use available CPU instructions in performance-critical operations.\n",
      "To enable the following instructions: SSE4.1 SSE4.2 AVX AVX2 AVX512F AVX512_VNNI FMA, in other operations, rebuild TensorFlow with the appropriate compiler flags.\n"
     ]
    }
   ],
   "source": [
    "import sys\n",
    "from typing import Literal\n",
    "\n",
    "import numpy as np\n",
    "import pandas as pd\n",
    "import plotly.figure_factory as ff\n",
    "import plotly.graph_objects as go\n",
    "import tensorflow as tf\n",
    "import tensorflow_probability as tfp\n",
    "from tensorflow.keras.layers import GRU, Dense, Embedding, SimpleRNN, StringLookup\n",
    "from tensorflow.keras.models import Model\n",
    "\n",
    "from equation_discover import *\n",
    "\n",
    "%load_ext autoreload\n",
    "%autoreload 2"
   ]
  },
  {
   "cell_type": "code",
   "execution_count": 2,
   "id": "22cdd70c-c8c9-462c-a166-3b3189df2506",
   "metadata": {
    "tags": []
   },
   "outputs": [],
   "source": [
    "def get_count(tensor):\n",
    "    count = 1\n",
    "    for dim in tensor.shape:\n",
    "        count = dim * count\n",
    "    return count\n",
    "\n",
    "def print_grad_and_vars(grad_and_vars: list[tuple[tf.Variable, tf.Tensor]]):\n",
    "    for var, grad in grad_and_vars:\n",
    "        if grad is not None:\n",
    "            has_nan = tf.reduce_any(tf.math.is_nan(grad))\n",
    "            print(\n",
    "                f'{var.name} has {f\"{tf.reduce_sum(tf.cast(tf.math.is_nan(grad), dtype=tf.int32))}/{get_count(grad)} NaN values\" if has_nan else \"no NaN\"}'\n",
    "            )\n",
    "        else:\n",
    "            print(f\"{var.name} is None\")"
   ]
  },
  {
   "cell_type": "code",
   "execution_count": 11,
   "id": "2201e0c7-720e-42af-ae6a-38b952c01e93",
   "metadata": {},
   "outputs": [],
   "source": [
    "sampler = RNNSampler(BASE_TOKENS, 16, 1)\n",
    "\n",
    "n = 2\n",
    "model_input = {\"input\": sampler.inputs, \"state\": sampler.states}\n",
    "logger = getLogger(\"dev\")"
   ]
  },
  {
   "cell_type": "code",
   "execution_count": 16,
   "id": "d8cacb6a-5c39-4cfe-82ce-21f2f62ed96f",
   "metadata": {},
   "outputs": [],
   "source": [
    "max_length_constraint = MaxLengthConstraint(sampler, max_length=3)"
   ]
  },
  {
   "cell_type": "code",
   "execution_count": 22,
   "id": "c76df5d5-c7ec-43c6-ba8b-e0a2dde496e5",
   "metadata": {
    "scrolled": true
   },
   "outputs": [
    {
     "name": "stderr",
     "output_type": "stream",
     "text": [
      "dev - DEBUG - 28-Dec-23 19:50:09 - \n",
      "logits=<Tensor shape: (1, 10)\n",
      "[[0.20, 0.73, ..., -0.26, 0.43]]>\n",
      "\n",
      "dev - DEBUG - 28-Dec-23 19:50:09 - \n",
      "raw_probabilities=<Tensor shape: (2, 10)\n",
      "[[0.11, 0.19, ..., 0.07, 0.14]\n",
      " [0.11, 0.19, ..., 0.07, 0.14]]>\n",
      "\n",
      "dev - DEBUG - 28-Dec-23 19:50:09 - Applying max length constraint, \n",
      "max_length_constraint=<Tensor shape: (2, 10)\n",
      "[[0.00, 0.00, ..., 1.00, 1.00]\n",
      " [0.00, 0.00, ..., 1.00, 1.00]]>\n",
      "\n",
      "dev - DEBUG - 28-Dec-23 19:50:09 - \n",
      "constrained_probs=<Tensor shape: (2, 10)\n",
      "[[0.00, 0.00, ..., 0.07, 0.14]\n",
      " [0.00, 0.00, ..., 0.07, 0.14]]>\n",
      "\n",
      "dev - DEBUG - 28-Dec-23 19:50:09 - \n",
      "normalized_probs=<Tensor shape: (2, 10)\n",
      "[[0.00, 0.00, ..., 0.33, 0.67]\n",
      " [0.00, 0.00, ..., 0.33, 0.67]]>\n",
      "\n"
     ]
    },
    {
     "data": {
      "text/plain": [
       "[<tf.Tensor: shape=(20, 16), dtype=float32, numpy=\n",
       " array([[0., 0., 0., 0., 0., 0., 0., 0., 0., 0., 0., 0., 0., 0., 0., 0.],\n",
       "        [0., 0., 0., 0., 0., 0., 0., 0., 0., 0., 0., 0., 0., 0., 0., 0.],\n",
       "        [0., 0., 0., 0., 0., 0., 0., 0., 0., 0., 0., 0., 0., 0., 0., 0.],\n",
       "        [0., 0., 0., 0., 0., 0., 0., 0., 0., 0., 0., 0., 0., 0., 0., 0.],\n",
       "        [0., 0., 0., 0., 0., 0., 0., 0., 0., 0., 0., 0., 0., 0., 0., 0.],\n",
       "        [0., 0., 0., 0., 0., 0., 0., 0., 0., 0., 0., 0., 0., 0., 0., 0.],\n",
       "        [0., 0., 0., 0., 0., 0., 0., 0., 0., 0., 0., 0., 0., 0., 0., 0.],\n",
       "        [0., 0., 0., 0., 0., 0., 0., 0., 0., 0., 0., 0., 0., 0., 0., 0.],\n",
       "        [0., 0., 0., 0., 0., 0., 0., 0., 0., 0., 0., 0., 0., 0., 0., 0.],\n",
       "        [0., 0., 0., 0., 0., 0., 0., 0., 0., 0., 0., 0., 0., 0., 0., 0.],\n",
       "        [0., 0., 0., 0., 0., 0., 0., 0., 0., 0., 0., 0., 0., 0., 0., 0.],\n",
       "        [0., 0., 0., 0., 0., 0., 0., 0., 0., 0., 0., 0., 0., 0., 0., 0.],\n",
       "        [0., 0., 0., 0., 0., 0., 0., 0., 0., 0., 0., 0., 0., 0., 0., 0.],\n",
       "        [0., 0., 0., 0., 0., 0., 0., 0., 0., 0., 0., 0., 0., 0., 0., 0.],\n",
       "        [0., 0., 0., 0., 0., 0., 0., 0., 0., 0., 0., 0., 0., 0., 0., 0.],\n",
       "        [0., 0., 0., 0., 0., 0., 0., 0., 0., 0., 0., 0., 0., 0., 0., 0.],\n",
       "        [0., 0., 0., 0., 0., 0., 0., 0., 0., 0., 0., 0., 0., 0., 0., 0.],\n",
       "        [0., 0., 0., 0., 0., 0., 0., 0., 0., 0., 0., 0., 0., 0., 0., 0.],\n",
       "        [0., 0., 0., 0., 0., 0., 0., 0., 0., 0., 0., 0., 0., 0., 0., 0.],\n",
       "        [0., 0., 0., 0., 0., 0., 0., 0., 0., 0., 0., 0., 0., 0., 0., 0.]],\n",
       "       dtype=float32)>,\n",
       " <tf.Tensor: shape=(16, 16), dtype=float32, numpy=\n",
       " array([[0., 0., 0., 0., 0., 0., 0., 0., 0., 0., 0., 0., 0., 0., 0., 0.],\n",
       "        [0., 0., 0., 0., 0., 0., 0., 0., 0., 0., 0., 0., 0., 0., 0., 0.],\n",
       "        [0., 0., 0., 0., 0., 0., 0., 0., 0., 0., 0., 0., 0., 0., 0., 0.],\n",
       "        [0., 0., 0., 0., 0., 0., 0., 0., 0., 0., 0., 0., 0., 0., 0., 0.],\n",
       "        [0., 0., 0., 0., 0., 0., 0., 0., 0., 0., 0., 0., 0., 0., 0., 0.],\n",
       "        [0., 0., 0., 0., 0., 0., 0., 0., 0., 0., 0., 0., 0., 0., 0., 0.],\n",
       "        [0., 0., 0., 0., 0., 0., 0., 0., 0., 0., 0., 0., 0., 0., 0., 0.],\n",
       "        [0., 0., 0., 0., 0., 0., 0., 0., 0., 0., 0., 0., 0., 0., 0., 0.],\n",
       "        [0., 0., 0., 0., 0., 0., 0., 0., 0., 0., 0., 0., 0., 0., 0., 0.],\n",
       "        [0., 0., 0., 0., 0., 0., 0., 0., 0., 0., 0., 0., 0., 0., 0., 0.],\n",
       "        [0., 0., 0., 0., 0., 0., 0., 0., 0., 0., 0., 0., 0., 0., 0., 0.],\n",
       "        [0., 0., 0., 0., 0., 0., 0., 0., 0., 0., 0., 0., 0., 0., 0., 0.],\n",
       "        [0., 0., 0., 0., 0., 0., 0., 0., 0., 0., 0., 0., 0., 0., 0., 0.],\n",
       "        [0., 0., 0., 0., 0., 0., 0., 0., 0., 0., 0., 0., 0., 0., 0., 0.],\n",
       "        [0., 0., 0., 0., 0., 0., 0., 0., 0., 0., 0., 0., 0., 0., 0., 0.],\n",
       "        [0., 0., 0., 0., 0., 0., 0., 0., 0., 0., 0., 0., 0., 0., 0., 0.]],\n",
       "       dtype=float32)>,\n",
       " <tf.Tensor: shape=(16,), dtype=float32, numpy=\n",
       " array([0., 0., 0., 0., 0., 0., 0., 0., 0., 0., 0., 0., 0., 0., 0., 0.],\n",
       "       dtype=float32)>,\n",
       " <tf.Tensor: shape=(16, 10), dtype=float32, numpy=\n",
       " array([[0., 0., 0., 0., 0., 0., 0., 0., 0., 0.],\n",
       "        [0., 0., 0., 0., 0., 0., 0., 0., 0., 0.],\n",
       "        [0., 0., 0., 0., 0., 0., 0., 0., 0., 0.],\n",
       "        [0., 0., 0., 0., 0., 0., 0., 0., 0., 0.],\n",
       "        [0., 0., 0., 0., 0., 0., 0., 0., 0., 0.],\n",
       "        [0., 0., 0., 0., 0., 0., 0., 0., 0., 0.],\n",
       "        [0., 0., 0., 0., 0., 0., 0., 0., 0., 0.],\n",
       "        [0., 0., 0., 0., 0., 0., 0., 0., 0., 0.],\n",
       "        [0., 0., 0., 0., 0., 0., 0., 0., 0., 0.],\n",
       "        [0., 0., 0., 0., 0., 0., 0., 0., 0., 0.],\n",
       "        [0., 0., 0., 0., 0., 0., 0., 0., 0., 0.],\n",
       "        [0., 0., 0., 0., 0., 0., 0., 0., 0., 0.],\n",
       "        [0., 0., 0., 0., 0., 0., 0., 0., 0., 0.],\n",
       "        [0., 0., 0., 0., 0., 0., 0., 0., 0., 0.],\n",
       "        [0., 0., 0., 0., 0., 0., 0., 0., 0., 0.],\n",
       "        [0., 0., 0., 0., 0., 0., 0., 0., 0., 0.]], dtype=float32)>,\n",
       " <tf.Tensor: shape=(10,), dtype=float32, numpy=array([0., 0., 0., 0., 0., 0., 0., 0., 0., 0.], dtype=float32)>,\n",
       " <tf.Tensor: shape=(1, 20), dtype=float32, numpy=\n",
       " array([[0., 0., 0., 0., 0., 0., 0., 0., 0., 0., 0., 0., 0., 0., 0., 0.,\n",
       "         0., 0., 0., 0.]], dtype=float32)>,\n",
       " <tf.Tensor: shape=(1, 16), dtype=float32, numpy=\n",
       " array([[0., 0., 0., 0., 0., 0., 0., 0., 0., 0., 0., 0., 0., 0., 0., 0.]],\n",
       "       dtype=float32)>]"
      ]
     },
     "execution_count": 22,
     "metadata": {},
     "output_type": "execute_result"
    }
   ],
   "source": [
    "with tf.GradientTape() as tape:\n",
    "    probs, arities, sequences, still_alive, current_iteration = eval_model(sampler, model_input, n)\n",
    "    constrained_probs = max_length_constraint(probs, arities, sequences, still_alive, current_iteration)\n",
    "tape.gradient(constrained_probs, sampler.variables)"
   ]
  },
  {
   "cell_type": "code",
   "execution_count": null,
   "id": "3b57e62b-d606-4c62-a5e8-12491a258cd3",
   "metadata": {},
   "outputs": [],
   "source": []
  },
  {
   "cell_type": "code",
   "execution_count": 23,
   "id": "8e44292b-c1b3-41af-85f2-7ff5980f99fd",
   "metadata": {},
   "outputs": [],
   "source": [
    "def check_grads(*args):\n",
    "    with tf.GradientTape() as tape:\n",
    "        outputs = eval_model(sampler, *args)\n",
    "    grads = tape.gradient(outputs, sampler.variables)\n",
    "    print_grad_and_vars([(var, grad) for grad, var in zip(grads, sampler.variables)])"
   ]
  },
  {
   "cell_type": "code",
   "execution_count": 41,
   "id": "897c3bbe-42a8-4b1c-bfc8-4d09a87af9e5",
   "metadata": {
    "scrolled": true
   },
   "outputs": [
    {
     "name": "stderr",
     "output_type": "stream",
     "text": [
      "dev - DEBUG - 28-Dec-23 19:59:00 - \n",
      "logits=<Tensor shape: (1, 10)\n",
      "[[0.20, 0.73, ..., -0.26, 0.43]]>\n",
      "\n",
      "dev - DEBUG - 28-Dec-23 19:59:00 - \n",
      "raw_probabilities=<Tensor shape: (2, 10)\n",
      "[[0.11, 0.19, ..., 0.07, 0.14]\n",
      " [0.11, 0.19, ..., 0.07, 0.14]]>\n",
      "\n",
      "dev - DEBUG - 28-Dec-23 19:59:00 - Applying max length constraint, \n",
      "max_length_constraint=<Tensor shape: (2, 10)\n",
      "[[0.00, 0.00, ..., 1.00, 1.00]\n",
      " [0.00, 0.00, ..., 1.00, 1.00]]>\n",
      "\n",
      "dev - DEBUG - 28-Dec-23 19:59:00 - \n",
      "constrained_probs=<Tensor shape: (2, 10)\n",
      "[[0.00, 0.00, ..., 0.07, 0.14]\n",
      " [0.00, 0.00, ..., 0.07, 0.14]]>\n",
      "\n",
      "dev - DEBUG - 28-Dec-23 19:59:00 - \n",
      "normalized_probs=<Tensor shape: (2, 10)\n",
      "[[0.00, 0.00, ..., 0.33, 0.67]\n",
      " [0.00, 0.00, ..., 0.33, 0.67]]>\n",
      "\n",
      "dev - DEBUG - 28-Dec-23 19:59:00 - \n",
      "tokens=<Tensor shape: (2,)\n",
      "[8, 9]>\n",
      "\n",
      "dev - DEBUG - 28-Dec-23 19:59:00 - Update arity, \n",
      "arities=<Tensor shape: (2,)\n",
      "[0.00, 0.00]>\n",
      "still_alive=<Tensor shape: (2,)\n",
      "[False, False]>\n",
      "\n",
      "dev - DEBUG - 28-Dec-23 19:59:00 - \n",
      "sequences=<Tensor shape: (2, 1)\n",
      "[[8]\n",
      " [9]]>\n",
      "mask=<Tensor shape: (2, 1)\n",
      "[[False]\n",
      " [False]]>\n",
      "\n"
     ]
    },
    {
     "name": "stdout",
     "output_type": "stream",
     "text": [
      "rnn_sampler_1/simple_rnn_1/simple_rnn_cell_1/kernel:0 has no NaN\n",
      "rnn_sampler_1/simple_rnn_1/simple_rnn_cell_1/recurrent_kernel:0 has no NaN\n",
      "rnn_sampler_1/simple_rnn_1/simple_rnn_cell_1/bias:0 has no NaN\n",
      "rnn_sampler_1/dense_1/kernel:0 has no NaN\n",
      "rnn_sampler_1/dense_1/bias:0 has no NaN\n",
      "input:0 has no NaN\n",
      "state:0 has no NaN\n"
     ]
    }
   ],
   "source": [
    "check_grads(model_input, n)"
   ]
  },
  {
   "cell_type": "code",
   "execution_count": null,
   "id": "03188a18-8927-49fd-ae38-15d6293544dd",
   "metadata": {
    "scrolled": true
   },
   "outputs": [],
   "source": [
    "outputs = eval_model(sampler, model_input, n)"
   ]
  },
  {
   "cell_type": "code",
   "execution_count": null,
   "id": "fb264974-4199-4267-83cc-b1c9caab7821",
   "metadata": {
    "scrolled": true
   },
   "outputs": [],
   "source": [
    "with tf.GradientTape() as tape:\n",
    "    outputs = eval_model(sampler, model_input, n)\n",
    "tape.gradient(outputs, sampler.variables)"
   ]
  },
  {
   "cell_type": "code",
   "execution_count": null,
   "id": "6a4a691f-0a57-4182-af04-525a1e304c86",
   "metadata": {
    "scrolled": true,
    "tags": []
   },
   "outputs": [],
   "source": [
    "get_grads(eval_model, model_input)"
   ]
  },
  {
   "cell_type": "code",
   "execution_count": null,
   "id": "bee1dde8-7d1c-4af8-b218-677ef02ef062",
   "metadata": {
    "tags": []
   },
   "outputs": [],
   "source": [
    "with tf.GradientTape() as tape:\n",
    "    outputs = eval_model(model_input)\n",
    "tape.gradient(outputs[0], sampler.variables)"
   ]
  },
  {
   "cell_type": "code",
   "execution_count": null,
   "id": "5847096d-4f45-4ea8-aa43-86cd2bff02d8",
   "metadata": {},
   "outputs": [],
   "source": []
  }
 ],
 "metadata": {
  "kernelspec": {
   "display_name": "Python 3 (ipykernel)",
   "language": "python",
   "name": "python3"
  },
  "language_info": {
   "codemirror_mode": {
    "name": "ipython",
    "version": 3
   },
   "file_extension": ".py",
   "mimetype": "text/x-python",
   "name": "python",
   "nbconvert_exporter": "python",
   "pygments_lexer": "ipython3",
   "version": "3.11.5"
  }
 },
 "nbformat": 4,
 "nbformat_minor": 5
}
