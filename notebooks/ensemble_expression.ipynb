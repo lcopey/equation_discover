{
 "cells": [
  {
   "cell_type": "code",
   "execution_count": 1,
   "id": "75aa6767-dbe0-41d8-8707-6a8aa4038fed",
   "metadata": {
    "tags": []
   },
   "outputs": [
    {
     "name": "stderr",
     "output_type": "stream",
     "text": [
      "2023-12-24 22:50:48.766659: I tensorflow/core/util/port.cc:113] oneDNN custom operations are on. You may see slightly different numerical results due to floating-point round-off errors from different computation orders. To turn them off, set the environment variable `TF_ENABLE_ONEDNN_OPTS=0`.\n",
      "2023-12-24 22:50:48.793911: I external/local_tsl/tsl/cuda/cudart_stub.cc:31] Could not find cuda drivers on your machine, GPU will not be used.\n",
      "2023-12-24 22:50:48.960017: E external/local_xla/xla/stream_executor/cuda/cuda_dnn.cc:9261] Unable to register cuDNN factory: Attempting to register factory for plugin cuDNN when one has already been registered\n",
      "2023-12-24 22:50:48.960126: E external/local_xla/xla/stream_executor/cuda/cuda_fft.cc:607] Unable to register cuFFT factory: Attempting to register factory for plugin cuFFT when one has already been registered\n",
      "2023-12-24 22:50:48.997471: E external/local_xla/xla/stream_executor/cuda/cuda_blas.cc:1515] Unable to register cuBLAS factory: Attempting to register factory for plugin cuBLAS when one has already been registered\n",
      "2023-12-24 22:50:49.092252: I external/local_tsl/tsl/cuda/cudart_stub.cc:31] Could not find cuda drivers on your machine, GPU will not be used.\n",
      "2023-12-24 22:50:49.093689: I tensorflow/core/platform/cpu_feature_guard.cc:182] This TensorFlow binary is optimized to use available CPU instructions in performance-critical operations.\n",
      "To enable the following instructions: AVX2 AVX512F AVX512_VNNI FMA, in other operations, rebuild TensorFlow with the appropriate compiler flags.\n",
      "2023-12-24 22:50:50.182370: W tensorflow/compiler/tf2tensorrt/utils/py_utils.cc:38] TF-TRT Warning: Could not find TensorRT\n"
     ]
    }
   ],
   "source": [
    "import sys\n",
    "from typing import Literal\n",
    "\n",
    "import numpy as np\n",
    "import pandas as pd\n",
    "import plotly.figure_factory as ff\n",
    "import plotly.graph_objects as go\n",
    "import tensorflow as tf\n",
    "from tensorflow.keras.layers import GRU, Dense, Embedding, SimpleRNN, StringLookup\n",
    "from tensorflow.keras.models import Model\n",
    "\n",
    "%load_ext autoreload\n",
    "%autoreload 2\n",
    "\n",
    "sys.path.append(\"../\")\n",
    "from equation_discover import *"
   ]
  },
  {
   "cell_type": "code",
   "execution_count": 80,
   "id": "191b7579-6ecc-494c-9161-678afc189ac3",
   "metadata": {
    "tags": []
   },
   "outputs": [],
   "source": [
    "n_samples = 32\n",
    "risk_seeking = 0.1\n",
    "lr = 0.01\n",
    "sampler = EquationSampler(BASE_TOKENS, 16, 2)"
   ]
  },
  {
   "cell_type": "code",
   "execution_count": 81,
   "id": "8c645f6a-b275-4cb8-b3ff-c159e87dc660",
   "metadata": {
    "tags": []
   },
   "outputs": [],
   "source": [
    "X = pd.DataFrame(np.linspace(-2 * np.pi, 2 * np.pi), columns=[\"var_x\"])\n",
    "y = np.sin((X * 2 + 1).squeeze())"
   ]
  },
  {
   "cell_type": "code",
   "execution_count": 82,
   "id": "019401de-8a0f-45b4-a38c-11913f6bcff4",
   "metadata": {
    "tags": []
   },
   "outputs": [],
   "source": [
    "#"
   ]
  },
  {
   "cell_type": "code",
   "execution_count": 83,
   "id": "f2e0edab-5ee5-410f-9cc0-f206f1473dbe",
   "metadata": {
    "tags": []
   },
   "outputs": [],
   "source": [
    "(sequences, lengths, entropies, log_probs) = sampler.sample_sequence(n_samples)"
   ]
  },
  {
   "cell_type": "code",
   "execution_count": 84,
   "id": "7247d64a-fcad-4c04-b2b7-96dc5793846c",
   "metadata": {
    "tags": []
   },
   "outputs": [],
   "source": [
    "ensemble = ExpressionEnsemble(sequences, lengths)"
   ]
  },
  {
   "cell_type": "code",
   "execution_count": 85,
   "id": "ce1d916a-d16c-40e7-bc08-616675fea287",
   "metadata": {
    "tags": []
   },
   "outputs": [
    {
     "name": "stderr",
     "output_type": "stream",
     "text": [
      "15655 - DEBUG - 24-Dec-23 23:06:23 - Fitting 1/32: exp(const / const - var_x * var_x / const / const), object=ExpressionEnsemble\n",
      "15655 - DEBUG - 24-Dec-23 23:06:23 - Fitting 2/32: cos(log(const - var_x / const + const) - var_x), object=ExpressionEnsemble\n",
      "15655 - DEBUG - 24-Dec-23 23:06:23 - Fitting 3/32: const * sin(exp(const - const)) - const - var_x, object=ExpressionEnsemble\n",
      "15655 - DEBUG - 24-Dec-23 23:06:24 - Fitting 4/32: const / var_x - var_x + const / var_x - const, object=ExpressionEnsemble\n",
      "15655 - DEBUG - 24-Dec-23 23:06:24 - Fitting 5/32: log(log(var_x - const) / const + const * const), object=ExpressionEnsemble\n",
      "15655 - DEBUG - 24-Dec-23 23:06:24 - Fitting 6/32: cos(const / log(const) + const / var_x * var_x), object=ExpressionEnsemble\n",
      "15655 - DEBUG - 24-Dec-23 23:06:24 - Fitting 7/32: sin(var_x), object=ExpressionEnsemble\n",
      "15655 - DEBUG - 24-Dec-23 23:06:24 - Fitting 8/32: sin(sin(const) - const - const - var_x) - const, object=ExpressionEnsemble\n",
      "15655 - DEBUG - 24-Dec-23 23:06:24 - Fitting 9/32: log(log(var_x - var_x - var_x) * var_x * var_x), object=ExpressionEnsemble\n",
      "15655 - DEBUG - 24-Dec-23 23:06:24 - Fitting 10/32: exp(sin(const / const * var_x * const)) - var_x, object=ExpressionEnsemble\n",
      "15655 - DEBUG - 24-Dec-23 23:06:24 - Fitting 11/32: cos(sin(const / const) / const - var_x / var_x), object=ExpressionEnsemble\n",
      "15655 - DEBUG - 24-Dec-23 23:06:24 - Fitting 12/32: sin(log(sin(var_x - const)) - const) - var_x - var_x, object=ExpressionEnsemble\n",
      "15655 - DEBUG - 24-Dec-23 23:06:25 - Fitting 13/32: cos(const - var_x / const * const - var_x) / const, object=ExpressionEnsemble\n",
      "15655 - DEBUG - 24-Dec-23 23:06:25 - Fitting 14/32: log(log(sin(var_x + const - const - var_x - var_x))), object=ExpressionEnsemble\n",
      "15655 - DEBUG - 24-Dec-23 23:06:27 - Fitting 15/32: sin(sin(var_x - var_x - const - const - const)), object=ExpressionEnsemble\n",
      "15655 - DEBUG - 24-Dec-23 23:06:27 - Fitting 16/32: const * const / log(exp(var_x * var_x)) / const, object=ExpressionEnsemble\n",
      "15655 - DEBUG - 24-Dec-23 23:06:27 - Fitting 17/32: sin(log(cos(const) / const - var_x / var_x) + const), object=ExpressionEnsemble\n",
      "15655 - DEBUG - 24-Dec-23 23:06:27 - Fitting 18/32: exp(log(sin(log(cos(const - var_x / const))))) / const, object=ExpressionEnsemble\n",
      "15655 - DEBUG - 24-Dec-23 23:06:27 - Fitting 19/32: log(var_x), object=ExpressionEnsemble\n",
      "15655 - DEBUG - 24-Dec-23 23:06:27 - Fitting 20/32: sin(log(const) - var_x) / const - const - const, object=ExpressionEnsemble\n",
      "15655 - DEBUG - 24-Dec-23 23:06:27 - Fitting 21/32: log(const - const + const) - var_x - var_x - var_x, object=ExpressionEnsemble\n",
      "15655 - DEBUG - 24-Dec-23 23:06:28 - Fitting 22/32: exp(cos(const - cos(sin(const) / const))) / var_x, object=ExpressionEnsemble\n",
      "15655 - DEBUG - 24-Dec-23 23:06:28 - Fitting 23/32: log(log(sin(log(const / const) - const) / var_x)), object=ExpressionEnsemble\n",
      "15655 - DEBUG - 24-Dec-23 23:06:28 - Fitting 24/32: log(cos(var_x)) - sin(const - var_x) - var_x / var_x, object=ExpressionEnsemble\n",
      "15655 - DEBUG - 24-Dec-23 23:06:28 - Fitting 25/32: cos(log(log(sin(sin(const - const - var_x) - const)))), object=ExpressionEnsemble\n",
      "15655 - DEBUG - 24-Dec-23 23:06:28 - Fitting 26/32: log(log(var_x * var_x)) - var_x - const / const, object=ExpressionEnsemble\n",
      "15655 - DEBUG - 24-Dec-23 23:06:28 - Fitting 27/32: const - log(log(const / const)) - var_x * var_x, object=ExpressionEnsemble\n",
      "15655 - DEBUG - 24-Dec-23 23:06:37 - Fitting 28/32: cos(log(log(cos(const) * sin(const / const - var_x)))), object=ExpressionEnsemble\n",
      "15655 - DEBUG - 24-Dec-23 23:06:37 - Fitting 29/32: log(exp(log(var_x * var_x - const)) - const) - const, object=ExpressionEnsemble\n",
      "15655 - DEBUG - 24-Dec-23 23:06:39 - Fitting 30/32: log(cos(log(log(var_x) * const - var_x))) / var_x, object=ExpressionEnsemble\n",
      "15655 - DEBUG - 24-Dec-23 23:06:39 - Fitting 31/32: log(exp(cos(exp(exp(const / var_x)) - const) * const)), object=ExpressionEnsemble\n",
      "15655 - DEBUG - 24-Dec-23 23:06:39 - Fitting 32/32: log(exp(var_x - var_x - var_x / const + const)), object=ExpressionEnsemble\n"
     ]
    }
   ],
   "source": [
    "ensemble.optimize_constants(X, y)"
   ]
  },
  {
   "cell_type": "code",
   "execution_count": 86,
   "id": "fdb441aa-47f1-4b5b-9c62-de325e124c6b",
   "metadata": {
    "tags": []
   },
   "outputs": [],
   "source": [
    "rewards = ensemble.score(X, y)"
   ]
  },
  {
   "cell_type": "code",
   "execution_count": 87,
   "id": "173586b0-883a-451a-adfc-ac4f1c8a0daa",
   "metadata": {
    "tags": []
   },
   "outputs": [],
   "source": [
    "best_epoch_expression = ensemble.expressions[tf.argmax(rewards)]\n",
    "best_rewards = tf.reduce_max(rewards)"
   ]
  },
  {
   "cell_type": "code",
   "execution_count": 88,
   "id": "d3963d62-b0f3-4dab-82a2-d6a56bcde107",
   "metadata": {
    "tags": []
   },
   "outputs": [],
   "source": [
    "threshold = np.quantile(rewards, 1 - risk_seeking)\n",
    "mask = rewards > threshold"
   ]
  },
  {
   "cell_type": "code",
   "execution_count": 89,
   "id": "f5c16bad-ca39-46c8-b9a7-5a384769cb62",
   "metadata": {
    "tags": []
   },
   "outputs": [],
   "source": [
    "best_rewards = rewards[mask]\n",
    "best_entropies = entropies[mask]\n",
    "best_log_probs = log_probs[mask]"
   ]
  },
  {
   "cell_type": "code",
   "execution_count": 95,
   "id": "a209f1f9-e2e8-4aa6-b231-336920160f28",
   "metadata": {
    "tags": []
   },
   "outputs": [],
   "source": [
    "risk_seeking_grad = tf.clip_by_value(\n",
    "    tf.reduce_sum((best_rewards - threshold) * best_log_probs) / best_rewards.shape[0],\n",
    "    -1e6,\n",
    "    1e6,\n",
    ")\n",
    "entropy_grad = tf.clip_by_value(\n",
    "    tf.reduce_sum(best_entropies) / best_rewards.shape[0], -1e6, 1e6\n",
    ")"
   ]
  },
  {
   "cell_type": "code",
   "execution_count": 97,
   "id": "08fbac11-3900-4a9a-a6e6-62be448fab53",
   "metadata": {
    "tags": []
   },
   "outputs": [],
   "source": [
    "loss = -lr * (risk_seeking_grad + entropy_grad)"
   ]
  }
 ],
 "metadata": {
  "kernelspec": {
   "display_name": "Python 3 (ipykernel)",
   "language": "python",
   "name": "python3"
  },
  "language_info": {
   "codemirror_mode": {
    "name": "ipython",
    "version": 3
   },
   "file_extension": ".py",
   "mimetype": "text/x-python",
   "name": "python",
   "nbconvert_exporter": "python",
   "pygments_lexer": "ipython3",
   "version": "3.11.6"
  }
 },
 "nbformat": 4,
 "nbformat_minor": 5
}
