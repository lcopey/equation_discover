{
 "cells": [
  {
   "cell_type": "code",
   "execution_count": 1,
   "id": "75aa6767-dbe0-41d8-8707-6a8aa4038fed",
   "metadata": {
    "tags": []
   },
   "outputs": [
    {
     "name": "stderr",
     "output_type": "stream",
     "text": [
      "2023-12-24 21:58:54.788957: I tensorflow/core/util/port.cc:113] oneDNN custom operations are on. You may see slightly different numerical results due to floating-point round-off errors from different computation orders. To turn them off, set the environment variable `TF_ENABLE_ONEDNN_OPTS=0`.\n",
      "2023-12-24 21:58:54.842757: I external/local_tsl/tsl/cuda/cudart_stub.cc:31] Could not find cuda drivers on your machine, GPU will not be used.\n",
      "2023-12-24 21:58:55.133408: E external/local_xla/xla/stream_executor/cuda/cuda_dnn.cc:9261] Unable to register cuDNN factory: Attempting to register factory for plugin cuDNN when one has already been registered\n",
      "2023-12-24 21:58:55.133518: E external/local_xla/xla/stream_executor/cuda/cuda_fft.cc:607] Unable to register cuFFT factory: Attempting to register factory for plugin cuFFT when one has already been registered\n",
      "2023-12-24 21:58:55.179818: E external/local_xla/xla/stream_executor/cuda/cuda_blas.cc:1515] Unable to register cuBLAS factory: Attempting to register factory for plugin cuBLAS when one has already been registered\n",
      "2023-12-24 21:58:55.293723: I external/local_tsl/tsl/cuda/cudart_stub.cc:31] Could not find cuda drivers on your machine, GPU will not be used.\n",
      "2023-12-24 21:58:55.294983: I tensorflow/core/platform/cpu_feature_guard.cc:182] This TensorFlow binary is optimized to use available CPU instructions in performance-critical operations.\n",
      "To enable the following instructions: AVX2 AVX512F AVX512_VNNI FMA, in other operations, rebuild TensorFlow with the appropriate compiler flags.\n",
      "2023-12-24 21:58:56.402400: W tensorflow/compiler/tf2tensorrt/utils/py_utils.cc:38] TF-TRT Warning: Could not find TensorRT\n"
     ]
    }
   ],
   "source": [
    "import sys\n",
    "from typing import Literal\n",
    "\n",
    "import numpy as np\n",
    "import pandas as pd\n",
    "import plotly.figure_factory as ff\n",
    "import plotly.graph_objects as go\n",
    "import tensorflow as tf\n",
    "from tensorflow.keras.layers import GRU, Dense, Embedding, SimpleRNN, StringLookup\n",
    "from tensorflow.keras.models import Model\n",
    "\n",
    "%load_ext autoreload\n",
    "%autoreload 2\n",
    "\n",
    "sys.path.append(\"../\")\n",
    "from equation_discover import *"
   ]
  },
  {
   "cell_type": "code",
   "execution_count": 2,
   "id": "191b7579-6ecc-494c-9161-678afc189ac3",
   "metadata": {
    "tags": []
   },
   "outputs": [],
   "source": [
    "n_samples = 32\n",
    "sampler = EquationSampler(BASE_TOKENS, 16, 2)\n",
    "(\n",
    "    sequences,\n",
    "    entropies,\n",
    "    log_probs,\n",
    "    counters,\n",
    "    lengths,\n",
    "    sequence_mask,\n",
    ") = sampler.sample_sequence(n_samples)"
   ]
  },
  {
   "cell_type": "code",
   "execution_count": 19,
   "id": "8c645f6a-b275-4cb8-b3ff-c159e87dc660",
   "metadata": {
    "tags": []
   },
   "outputs": [],
   "source": [
    "X = pd.DataFrame(np.linspace(-2 * np.pi, 2 * np.pi), columns=[\"var_x\"])\n",
    "y = np.sin((X * 2 + 1).squeeze())\n",
    "\n",
    "ensemble = ExpressionEnsemble(sequences, lengths)"
   ]
  },
  {
   "cell_type": "code",
   "execution_count": 20,
   "id": "019401de-8a0f-45b4-a38c-11913f6bcff4",
   "metadata": {
    "tags": []
   },
   "outputs": [],
   "source": [
    "#"
   ]
  },
  {
   "cell_type": "code",
   "execution_count": 21,
   "id": "ce1d916a-d16c-40e7-bc08-616675fea287",
   "metadata": {
    "tags": []
   },
   "outputs": [
    {
     "name": "stderr",
     "output_type": "stream",
     "text": [
      "12879 - DEBUG - 24-Dec-23 22:14:51 - Fitting 1/32: const + const + const + var_x + var_x * var_x, object=ExpressionEnsemble\n",
      "12879 - DEBUG - 24-Dec-23 22:14:51 - Fitting 2/32: var_x - exp(sin(var_x)) * var_x - const - var_x, object=ExpressionEnsemble\n",
      "12879 - DEBUG - 24-Dec-23 22:14:51 - Fitting 3/32: cos(cos(cos(sin(cos(var_x * const)) - const) + const)), object=ExpressionEnsemble\n",
      "12879 - DEBUG - 24-Dec-23 22:14:52 - Fitting 4/32: exp(cos(var_x + const - var_x) - const / var_x), object=ExpressionEnsemble\n",
      "12879 - DEBUG - 24-Dec-23 22:14:52 - Fitting 5/32: log(exp(cos(var_x))), object=ExpressionEnsemble\n",
      "12879 - DEBUG - 24-Dec-23 22:14:52 - Fitting 6/32: exp(sin(const / var_x)), object=ExpressionEnsemble\n",
      "12879 - DEBUG - 24-Dec-23 22:14:52 - Fitting 7/32: exp(log(cos(cos(const + const))) + var_x) * var_x, object=ExpressionEnsemble\n",
      "12879 - DEBUG - 24-Dec-23 22:14:52 - Fitting 8/32: sin(const + var_x + var_x + const + var_x / var_x), object=ExpressionEnsemble\n",
      "12879 - DEBUG - 24-Dec-23 22:14:52 - Fitting 9/32: sin(cos(cos(var_x + const + const - const))) + const, object=ExpressionEnsemble\n",
      "12879 - DEBUG - 24-Dec-23 22:14:52 - Fitting 10/32: cos(sin(var_x - var_x) + var_x + var_x / var_x), object=ExpressionEnsemble\n",
      "12879 - DEBUG - 24-Dec-23 22:14:52 - Fitting 11/32: cos(cos(var_x - const / const)) - const - const, object=ExpressionEnsemble\n",
      "12879 - DEBUG - 24-Dec-23 22:14:52 - Fitting 12/32: cos(sin(sin(var_x - var_x) - var_x + var_x) - const), object=ExpressionEnsemble\n",
      "12879 - DEBUG - 24-Dec-23 22:14:52 - Fitting 13/32: sin(var_x), object=ExpressionEnsemble\n",
      "12879 - DEBUG - 24-Dec-23 22:14:52 - Fitting 14/32: cos(exp(var_x - var_x - const) + var_x + const), object=ExpressionEnsemble\n",
      "12879 - DEBUG - 24-Dec-23 22:14:53 - Fitting 15/32: sin(var_x + const + const + var_x + var_x - const), object=ExpressionEnsemble\n",
      "12879 - DEBUG - 24-Dec-23 22:14:53 - Fitting 16/32: cos(var_x / cos(const + const - var_x / var_x)), object=ExpressionEnsemble\n",
      "12879 - DEBUG - 24-Dec-23 22:14:53 - Fitting 17/32: log(sin(exp(cos(exp(log(var_x) - var_x)) - const))), object=ExpressionEnsemble\n",
      "12879 - DEBUG - 24-Dec-23 22:14:53 - Fitting 18/32: cos(sin(const / const * const) * var_x) * var_x, object=ExpressionEnsemble\n",
      "12879 - DEBUG - 24-Dec-23 22:14:54 - Fitting 19/32: cos(var_x - const / var_x + var_x + const) * var_x, object=ExpressionEnsemble\n",
      "12879 - DEBUG - 24-Dec-23 22:14:54 - Fitting 20/32: cos(cos(cos(cos(var_x - var_x) + const + const))), object=ExpressionEnsemble\n",
      "12879 - DEBUG - 24-Dec-23 22:14:54 - Fitting 21/32: exp(const + cos(var_x) - const / const) + const, object=ExpressionEnsemble\n",
      "12879 - DEBUG - 24-Dec-23 22:14:54 - Fitting 22/32: cos(var_x), object=ExpressionEnsemble\n",
      "12879 - DEBUG - 24-Dec-23 22:14:54 - Fitting 23/32: exp(var_x), object=ExpressionEnsemble\n",
      "12879 - DEBUG - 24-Dec-23 22:14:54 - Fitting 24/32: log(cos(exp(sin(sin(log(const)))) - const) + var_x), object=ExpressionEnsemble\n",
      "12879 - DEBUG - 24-Dec-23 22:14:55 - Fitting 25/32: cos(cos(cos(const)) + const - cos(cos(var_x))), object=ExpressionEnsemble\n",
      "12879 - DEBUG - 24-Dec-23 22:14:55 - Fitting 26/32: exp(cos(log(var_x + var_x) - const - const) - const), object=ExpressionEnsemble\n",
      "12879 - DEBUG - 24-Dec-23 22:14:55 - Fitting 27/32: sin(cos(const) + const / const) - var_x + const, object=ExpressionEnsemble\n",
      "12879 - DEBUG - 24-Dec-23 22:14:56 - Fitting 28/32: var_x / var_x + var_x, object=ExpressionEnsemble\n",
      "12879 - DEBUG - 24-Dec-23 22:14:56 - Fitting 29/32: exp(exp(cos(cos(sin(cos(const))) - cos(const + var_x)))), object=ExpressionEnsemble\n",
      "12879 - DEBUG - 24-Dec-23 22:14:56 - Fitting 30/32: sin(log(exp(cos(var_x) + const))) + var_x + const, object=ExpressionEnsemble\n",
      "12879 - DEBUG - 24-Dec-23 22:14:56 - Fitting 31/32: exp(cos(cos(sin(sin(var_x - const / const)) - const))), object=ExpressionEnsemble\n",
      "12879 - DEBUG - 24-Dec-23 22:14:57 - Fitting 32/32: sin(sin(var_x) / const / var_x / const + var_x), object=ExpressionEnsemble\n"
     ]
    }
   ],
   "source": [
    "ensemble.optimize_constants(X, y)"
   ]
  },
  {
   "cell_type": "code",
   "execution_count": 16,
   "id": "3d643880-24ea-40db-b66c-f7ca866eff20",
   "metadata": {
    "tags": []
   },
   "outputs": [],
   "source": [
    "y_pred = ensemble.eval(X)"
   ]
  },
  {
   "cell_type": "code",
   "execution_count": 32,
   "id": "fdb441aa-47f1-4b5b-9c62-de325e124c6b",
   "metadata": {
    "tags": []
   },
   "outputs": [
    {
     "data": {
      "text/plain": [
       "<tf.Tensor: shape=(32,), dtype=float32, numpy=\n",
       "array([2.1841627e-04, 4.9017556e-04, 8.9715458e-03, 2.8614341e-03,\n",
       "       8.0296723e-03, 3.3150411e-03, 1.1501372e-05, 7.3126755e-03,\n",
       "       1.3329827e-02, 9.0060029e-03, 1.1165656e-02, 1.1165656e-02,\n",
       "       7.9747634e-03, 8.0317138e-03, 8.0317147e-03, 9.0060029e-03,\n",
       "       5.9414613e-03, 3.1221609e-03, 3.2423337e-03, 9.0060029e-03,\n",
       "       1.1165656e-02, 8.0296723e-03, 6.7052788e-05, 5.7072588e-03,\n",
       "       1.3663336e-02, 1.1162554e-02, 2.1622137e-03, 2.0197802e-03,\n",
       "       8.8923576e-04, 2.0970537e-03, 4.3326709e-03, 8.0317138e-03],\n",
       "      dtype=float32)>"
      ]
     },
     "execution_count": 32,
     "metadata": {},
     "output_type": "execute_result"
    }
   ],
   "source": [
    "ensemble.score(X, y)"
   ]
  }
 ],
 "metadata": {
  "kernelspec": {
   "display_name": "Python 3 (ipykernel)",
   "language": "python",
   "name": "python3"
  },
  "language_info": {
   "codemirror_mode": {
    "name": "ipython",
    "version": 3
   },
   "file_extension": ".py",
   "mimetype": "text/x-python",
   "name": "python",
   "nbconvert_exporter": "python",
   "pygments_lexer": "ipython3",
   "version": "3.11.6"
  }
 },
 "nbformat": 4,
 "nbformat_minor": 5
}
