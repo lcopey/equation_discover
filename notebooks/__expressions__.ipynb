{
 "cells": [
  {
   "cell_type": "code",
   "execution_count": 1,
   "id": "5ec92341-2b13-4b51-b82a-65c6390a167d",
   "metadata": {
    "tags": []
   },
   "outputs": [
    {
     "name": "stderr",
     "output_type": "stream",
     "text": [
      "2023-12-24 12:19:05.012569: I tensorflow/core/util/port.cc:113] oneDNN custom operations are on. You may see slightly different numerical results due to floating-point round-off errors from different computation orders. To turn them off, set the environment variable `TF_ENABLE_ONEDNN_OPTS=0`.\n",
      "2023-12-24 12:19:05.070396: I external/local_tsl/tsl/cuda/cudart_stub.cc:31] Could not find cuda drivers on your machine, GPU will not be used.\n",
      "2023-12-24 12:19:05.344797: E external/local_xla/xla/stream_executor/cuda/cuda_dnn.cc:9261] Unable to register cuDNN factory: Attempting to register factory for plugin cuDNN when one has already been registered\n",
      "2023-12-24 12:19:05.344911: E external/local_xla/xla/stream_executor/cuda/cuda_fft.cc:607] Unable to register cuFFT factory: Attempting to register factory for plugin cuFFT when one has already been registered\n",
      "2023-12-24 12:19:05.392785: E external/local_xla/xla/stream_executor/cuda/cuda_blas.cc:1515] Unable to register cuBLAS factory: Attempting to register factory for plugin cuBLAS when one has already been registered\n",
      "2023-12-24 12:19:05.513046: I external/local_tsl/tsl/cuda/cudart_stub.cc:31] Could not find cuda drivers on your machine, GPU will not be used.\n",
      "2023-12-24 12:19:05.514563: I tensorflow/core/platform/cpu_feature_guard.cc:182] This TensorFlow binary is optimized to use available CPU instructions in performance-critical operations.\n",
      "To enable the following instructions: AVX2 AVX512F AVX512_VNNI FMA, in other operations, rebuild TensorFlow with the appropriate compiler flags.\n",
      "2023-12-24 12:19:06.630081: W tensorflow/compiler/tf2tensorrt/utils/py_utils.cc:38] TF-TRT Warning: Could not find TensorRT\n"
     ]
    }
   ],
   "source": [
    "import sys\n",
    "from typing import Literal\n",
    "\n",
    "import numpy as np\n",
    "import pandas as pd\n",
    "import plotly.express as px\n",
    "import plotly.figure_factory as ff\n",
    "import plotly.graph_objects as go\n",
    "import tensorflow as tf\n",
    "from plotly.colors import n_colors\n",
    "from tensorflow.keras.layers import GRU, Dense, Embedding, SimpleRNN, StringLookup\n",
    "from tensorflow.keras.models import Model\n",
    "\n",
    "%load_ext autoreload\n",
    "%autoreload 2\n",
    "\n",
    "sys.path.append(\"../\")\n",
    "from equation_discover import *"
   ]
  },
  {
   "cell_type": "code",
   "execution_count": 2,
   "id": "a51742ad-d800-4571-b0ae-52a7f7caca0a",
   "metadata": {
    "tags": []
   },
   "outputs": [],
   "source": [
    "from scipy.optimize import basinhopping, minimize\n",
    "from tensorflow.keras.losses import MSE"
   ]
  },
  {
   "cell_type": "code",
   "execution_count": 3,
   "id": "626ce9d1-4708-4836-878e-eaaaa3caba69",
   "metadata": {
    "tags": []
   },
   "outputs": [],
   "source": [
    "tree = Node.from_sequence(\n",
    "    [\n",
    "        BASE_TOKENS.symbols.index(value)\n",
    "        for value in [\"sin\", \"+\", \"*\", \"const\", \"var_x\", \"const\"]\n",
    "    ]\n",
    ")\n",
    "\n",
    "X = pd.DataFrame(np.linspace(-2 * np.pi, 2 * np.pi), columns=[\"var_x\"])\n",
    "y = np.sin((X * 2 + 1).squeeze())"
   ]
  },
  {
   "cell_type": "markdown",
   "id": "2a704ed4-1657-4b9f-9031-d33f1fd968c8",
   "metadata": {},
   "source": [
    "# TF"
   ]
  },
  {
   "cell_type": "code",
   "execution_count": 4,
   "id": "b568c756-5405-4a65-8e57-267e44a43cae",
   "metadata": {
    "tags": []
   },
   "outputs": [],
   "source": [
    "import functools\n",
    "\n",
    "import tensorflow_probability as tfp\n",
    "from tensorflow.keras.losses import MSE"
   ]
  },
  {
   "cell_type": "code",
   "execution_count": 6,
   "id": "ade8cc79-908e-473e-ba03-e1f5893a1036",
   "metadata": {
    "tags": []
   },
   "outputs": [],
   "source": [
    "X = pd.DataFrame(np.linspace(-2 * np.pi, 2 * np.pi), columns=[\"var_x\"])\n",
    "y = np.sin((X * 2 + 1).squeeze())\n",
    "model = Expression(tree)"
   ]
  },
  {
   "cell_type": "code",
   "execution_count": 14,
   "id": "d180a044-2afb-48a4-8e23-f0800498ec78",
   "metadata": {
    "tags": []
   },
   "outputs": [],
   "source": [
    "model.constants = np.array([0.5, 0], dtype=np.float32)"
   ]
  },
  {
   "cell_type": "code",
   "execution_count": 15,
   "id": "b6d255bb-22c3-4fa7-ac2d-b22b3efb061a",
   "metadata": {
    "tags": []
   },
   "outputs": [
    {
     "data": {
      "text/plain": [
       "<tf.Tensor: shape=(50,), dtype=float32, numpy=\n",
       "array([-0.36892688, -0.258867  , -0.14532782, -0.02983494,  0.08605924,\n",
       "        0.20079611,  0.3128341 ,  0.420667  ,  0.52284527,  0.6179954 ,\n",
       "        0.70483834,  0.78220683,  0.8490609 ,  0.9045018 ,  0.94778436,\n",
       "        0.9783267 ,  0.9957183 ,  0.99972546,  0.9902942 ,  0.9675514 ,\n",
       "        0.93180263,  0.88352865,  0.82337815,  0.7521598 ,  0.6708307 ,\n",
       "        0.58048445,  0.48233518,  0.37770241,  0.26799253,  0.15468028,\n",
       "        0.03928872, -0.07663085, -0.19152041, -0.30383554, -0.4120665 ,\n",
       "       -0.5147583 , -0.6105308 , -0.6980965 , -0.7762785 , -0.8440255 ,\n",
       "       -0.9004271 , -0.94472516, -0.97632414, -0.9947993 , -0.99990237,\n",
       "       -0.9915647 , -0.9698982 , -0.9351944 , -0.8879197 , -0.82870936],\n",
       "      dtype=float32)>"
      ]
     },
     "execution_count": 15,
     "metadata": {},
     "output_type": "execute_result"
    }
   ],
   "source": [
    "model({\"X\": X, \"constants\": np.random.randn(2)})"
   ]
  },
  {
   "cell_type": "code",
   "execution_count": 18,
   "id": "ec6e049f-f145-4efc-ab6c-0197a27f3ac1",
   "metadata": {
    "tags": []
   },
   "outputs": [
    {
     "data": {
      "text/plain": [
       "<equation_discover.expressions.Expression at 0x7da90ca6fb10>"
      ]
     },
     "execution_count": 18,
     "metadata": {},
     "output_type": "execute_result"
    }
   ],
   "source": [
    "model.optimize_constants(X, y, \"lbfgs\")"
   ]
  },
  {
   "cell_type": "code",
   "execution_count": 41,
   "id": "2ad30e34-f117-448e-9e45-044de8ab9d01",
   "metadata": {
    "tags": []
   },
   "outputs": [],
   "source": [
    "def RMSE(y_true, y_pred):\n",
    "    return tf.sqrt(tf.reduce_sum(tf.pow(y_true - y_pred, 2)) / y_true.shape[0])\n",
    "\n",
    "\n",
    "def normalized_rmse(y_true, y_pred):\n",
    "    return tf.math.reduce_std(y_true) * RMSE(y_true, y_pred)\n",
    "\n",
    "\n",
    "def reward(y_true, y_pred):\n",
    "    return 1 / (1 + normalized_rmse(y_true, y_pred))"
   ]
  },
  {
   "cell_type": "code",
   "execution_count": 36,
   "id": "bcb1de58-7491-4748-9a38-146e9428c869",
   "metadata": {
    "tags": []
   },
   "outputs": [],
   "source": [
    "y_true = tf.convert_to_tensor(y, dtype=tf.float32)"
   ]
  },
  {
   "cell_type": "code",
   "execution_count": 42,
   "id": "4d1b29f4-9183-4934-bb32-e3387a81ea00",
   "metadata": {
    "tags": []
   },
   "outputs": [
    {
     "data": {
      "text/plain": [
       "<tf.Tensor: shape=(), dtype=float32, numpy=0.9999999>"
      ]
     },
     "execution_count": 42,
     "metadata": {},
     "output_type": "execute_result"
    }
   ],
   "source": [
    "reward(y_true, model.eval(X))"
   ]
  },
  {
   "cell_type": "markdown",
   "id": "6bbd56f8-6e9c-46ef-aa3b-1fe68a5e350b",
   "metadata": {},
   "source": [
    "# Expression"
   ]
  },
  {
   "cell_type": "code",
   "execution_count": null,
   "id": "27b05865-db95-4924-8195-29dacf53650f",
   "metadata": {
    "tags": []
   },
   "outputs": [],
   "source": [
    "expression = Expression(tree)"
   ]
  },
  {
   "cell_type": "code",
   "execution_count": null,
   "id": "4e5218a3-b640-488e-9bb6-7e75f8972b55",
   "metadata": {
    "tags": []
   },
   "outputs": [],
   "source": [
    "results = {}\n",
    "T = 1e-1\n",
    "step_size = 1\n",
    "for n in range(50):\n",
    "    res = basinhopping(\n",
    "        lambda constants: MSE(y, expression.eval(X, constants)),\n",
    "        expression.constants,\n",
    "        T=T,\n",
    "        stepsize=step_size,\n",
    "        niter=1000,\n",
    "        # niter_success=50\n",
    "    )\n",
    "    results[(T, step_size, n)] = res.x\n",
    "\n",
    "results = pd.Series(results).rename_axis([\"T\", \"step_size\", \"n\"]).to_frame(\"res\")\n",
    "results.reset_index(inplace=True)\n",
    "results[\"mse\"] = results.apply(\n",
    "    lambda x: MSE(y, expression.eval(X, x.res)).numpy(), axis=1\n",
    ")"
   ]
  },
  {
   "cell_type": "code",
   "execution_count": null,
   "id": "0da8271e-fc2a-40e4-88f1-33806c7da582",
   "metadata": {
    "tags": []
   },
   "outputs": [],
   "source": [
    "(results.mse < 1e-3).sum()"
   ]
  },
  {
   "cell_type": "code",
   "execution_count": null,
   "id": "f3c12b27-a93c-44c7-853d-4725e851f587",
   "metadata": {
    "tags": []
   },
   "outputs": [],
   "source": [
    "results = {}\n",
    "for step_size in np.logspace(-1, 1, 10):\n",
    "    for T in np.logspace(-3, 3, 10):\n",
    "        for n in range(30):\n",
    "            res = basinhopping(\n",
    "                lambda constants: MSE(y, expression.eval(X, constants)),\n",
    "                expression.constants,\n",
    "                T=T,\n",
    "                stepsize=step_size,\n",
    "                niter=500,\n",
    "            )\n",
    "            results[(T, step_size, n)] = res.x\n",
    "\n",
    "results = pd.Series(results).rename_axis([\"T\", \"step_size\", \"n\"]).to_frame(\"res\")\n",
    "results.reset_index(inplace=True)\n",
    "results[\"mse\"] = results.apply(\n",
    "    lambda x: MSE(y, expression.eval(X, x.res)).numpy(), axis=1\n",
    ")"
   ]
  },
  {
   "cell_type": "code",
   "execution_count": null,
   "id": "e3a049a2-498f-4cc5-9892-e680c5761dd3",
   "metadata": {
    "tags": []
   },
   "outputs": [],
   "source": [
    "px.imshow(\n",
    "    results.groupby([\"T\", \"step_size\"]).apply(lambda x: (x.mse < 1e-1).sum()).unstack(),\n",
    "    aspect=\"auto\",\n",
    ").update_layout(xaxis_type=\"log\", yaxis_type=\"log\")"
   ]
  },
  {
   "cell_type": "code",
   "execution_count": null,
   "id": "e1824410-279c-4414-bad1-38f0dc77d7b2",
   "metadata": {
    "tags": []
   },
   "outputs": [],
   "source": [
    "fig = go.Figure()\n",
    "\n",
    "colors = n_colors(\n",
    "    \"rgb(5, 200, 200)\", \"rgb(200, 10, 10)\", results[\"T\"].nunique(), colortype=\"rgb\"\n",
    ")\n",
    "for (T, group), color in zip(results.groupby(\"T\"), colors):\n",
    "    fig.add_violin(x=group.distance, name=f\"{T:.03f}\", line_color=color)\n",
    "fig.update_traces(orientation=\"h\", side=\"positive\", points=False)\n",
    "fig.update_layout(height=600)"
   ]
  },
  {
   "cell_type": "code",
   "execution_count": null,
   "id": "3d55ae83-94c9-4ca6-9908-b844a4837b27",
   "metadata": {},
   "outputs": [],
   "source": []
  }
 ],
 "metadata": {
  "kernelspec": {
   "display_name": "Python 3 (ipykernel)",
   "language": "python",
   "name": "python3"
  },
  "language_info": {
   "codemirror_mode": {
    "name": "ipython",
    "version": 3
   },
   "file_extension": ".py",
   "mimetype": "text/x-python",
   "name": "python",
   "nbconvert_exporter": "python",
   "pygments_lexer": "ipython3",
   "version": "3.11.6"
  }
 },
 "nbformat": 4,
 "nbformat_minor": 5
}
