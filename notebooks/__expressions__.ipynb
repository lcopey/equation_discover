{
 "cells": [
  {
   "cell_type": "code",
   "execution_count": 1,
   "id": "5ec92341-2b13-4b51-b82a-65c6390a167d",
   "metadata": {
    "tags": []
   },
   "outputs": [
    {
     "name": "stderr",
     "output_type": "stream",
     "text": [
      "2023-12-21 21:44:25.371670: I tensorflow/core/util/port.cc:113] oneDNN custom operations are on. You may see slightly different numerical results due to floating-point round-off errors from different computation orders. To turn them off, set the environment variable `TF_ENABLE_ONEDNN_OPTS=0`.\n",
      "2023-12-21 21:44:25.413396: I external/local_tsl/tsl/cuda/cudart_stub.cc:31] Could not find cuda drivers on your machine, GPU will not be used.\n",
      "2023-12-21 21:44:25.616732: E external/local_xla/xla/stream_executor/cuda/cuda_dnn.cc:9261] Unable to register cuDNN factory: Attempting to register factory for plugin cuDNN when one has already been registered\n",
      "2023-12-21 21:44:25.616802: E external/local_xla/xla/stream_executor/cuda/cuda_fft.cc:607] Unable to register cuFFT factory: Attempting to register factory for plugin cuFFT when one has already been registered\n",
      "2023-12-21 21:44:25.650908: E external/local_xla/xla/stream_executor/cuda/cuda_blas.cc:1515] Unable to register cuBLAS factory: Attempting to register factory for plugin cuBLAS when one has already been registered\n",
      "2023-12-21 21:44:25.757402: I external/local_tsl/tsl/cuda/cudart_stub.cc:31] Could not find cuda drivers on your machine, GPU will not be used.\n",
      "2023-12-21 21:44:25.758638: I tensorflow/core/platform/cpu_feature_guard.cc:182] This TensorFlow binary is optimized to use available CPU instructions in performance-critical operations.\n",
      "To enable the following instructions: AVX2 AVX512F AVX512_VNNI FMA, in other operations, rebuild TensorFlow with the appropriate compiler flags.\n",
      "2023-12-21 21:44:26.844238: W tensorflow/compiler/tf2tensorrt/utils/py_utils.cc:38] TF-TRT Warning: Could not find TensorRT\n"
     ]
    }
   ],
   "source": [
    "import sys\n",
    "from typing import Literal\n",
    "\n",
    "import numpy as np\n",
    "import pandas as pd\n",
    "import plotly.express as px\n",
    "import plotly.figure_factory as ff\n",
    "import plotly.graph_objects as go\n",
    "import tensorflow as tf\n",
    "from plotly.colors import n_colors\n",
    "from tensorflow.keras.layers import GRU, Dense, Embedding, SimpleRNN, StringLookup\n",
    "from tensorflow.keras.models import Model\n",
    "\n",
    "%load_ext autoreload\n",
    "%autoreload 2\n",
    "\n",
    "sys.path.append(\"../\")\n",
    "from equation_discover import *"
   ]
  },
  {
   "cell_type": "code",
   "execution_count": 2,
   "id": "a51742ad-d800-4571-b0ae-52a7f7caca0a",
   "metadata": {
    "tags": []
   },
   "outputs": [],
   "source": [
    "from scipy.optimize import basinhopping, minimize\n",
    "from tensorflow.keras.losses import MSE"
   ]
  },
  {
   "cell_type": "code",
   "execution_count": 3,
   "id": "626ce9d1-4708-4836-878e-eaaaa3caba69",
   "metadata": {
    "tags": []
   },
   "outputs": [],
   "source": [
    "tree = Node.build_tree(\n",
    "    [\n",
    "        BASE_TOKENS.symbols.index(value)\n",
    "        for value in [\"sin\", \"+\", \"*\", \"const\", \"var_x\", \"const\"]\n",
    "    ]\n",
    ")\n",
    "\n",
    "X = pd.DataFrame(np.linspace(-2 * np.pi, 2 * np.pi), columns=[\"var_x\"])\n",
    "y = np.sin((X * 2 + 1).squeeze())"
   ]
  },
  {
   "cell_type": "code",
   "execution_count": 4,
   "id": "27b05865-db95-4924-8195-29dacf53650f",
   "metadata": {
    "tags": []
   },
   "outputs": [],
   "source": [
    "expression = Expression(tree)"
   ]
  },
  {
   "cell_type": "code",
   "execution_count": null,
   "id": "fddb8c6b-7cd1-403f-ba2c-2d29a9505e67",
   "metadata": {
    "tags": []
   },
   "outputs": [],
   "source": [
    "MSE(y, expression.fit(X, y, T=1e-1, step_size=1).eval(X))"
   ]
  },
  {
   "cell_type": "code",
   "execution_count": 5,
   "id": "4e5218a3-b640-488e-9bb6-7e75f8972b55",
   "metadata": {
    "tags": []
   },
   "outputs": [],
   "source": [
    "results = {}\n",
    "T = 1e-1\n",
    "step_size = 1\n",
    "for n in range(50):\n",
    "    res = basinhopping(\n",
    "        lambda constants: MSE(y, expression.eval(X, constants)),\n",
    "        expression.constants,\n",
    "        T=T,\n",
    "        stepsize=step_size,\n",
    "        niter=1000,\n",
    "        # niter_success=50\n",
    "    )\n",
    "    results[(T, step_size, n)] = res.x\n",
    "\n",
    "results = pd.Series(results).rename_axis([\"T\", \"step_size\", \"n\"]).to_frame(\"res\")\n",
    "results.reset_index(inplace=True)\n",
    "results[\"mse\"] = results.apply(\n",
    "    lambda x: MSE(y, expression.eval(X, x.res)).numpy(), axis=1\n",
    ")"
   ]
  },
  {
   "cell_type": "code",
   "execution_count": 6,
   "id": "0da8271e-fc2a-40e4-88f1-33806c7da582",
   "metadata": {
    "tags": []
   },
   "outputs": [
    {
     "data": {
      "text/plain": [
       "48"
      ]
     },
     "execution_count": 6,
     "metadata": {},
     "output_type": "execute_result"
    }
   ],
   "source": [
    "(results.mse < 1e-3).sum()"
   ]
  },
  {
   "cell_type": "code",
   "execution_count": null,
   "id": "f3c12b27-a93c-44c7-853d-4725e851f587",
   "metadata": {
    "tags": []
   },
   "outputs": [],
   "source": [
    "results = {}\n",
    "for step_size in np.logspace(-1, 1, 10):\n",
    "    for T in np.logspace(-3, 3, 10):\n",
    "        for n in range(30):\n",
    "            res = basinhopping(\n",
    "                lambda constants: MSE(y, expression.eval(X, constants)),\n",
    "                expression.constants,\n",
    "                T=T,\n",
    "                stepsize=step_size,\n",
    "                niter=500,\n",
    "            )\n",
    "            results[(T, step_size, n)] = res.x\n",
    "\n",
    "results = pd.Series(results).rename_axis([\"T\", \"step_size\", \"n\"]).to_frame(\"res\")\n",
    "results.reset_index(inplace=True)\n",
    "results[\"mse\"] = results.apply(\n",
    "    lambda x: MSE(y, expression.eval(X, x.res)).numpy(), axis=1\n",
    ")"
   ]
  },
  {
   "cell_type": "code",
   "execution_count": null,
   "id": "e3a049a2-498f-4cc5-9892-e680c5761dd3",
   "metadata": {
    "tags": []
   },
   "outputs": [],
   "source": [
    "px.imshow(\n",
    "    results.groupby([\"T\", \"step_size\"]).apply(lambda x: (x.mse < 1e-1).sum()).unstack(),\n",
    "    aspect=\"auto\",\n",
    ").update_layout(xaxis_type=\"log\", yaxis_type=\"log\")"
   ]
  },
  {
   "cell_type": "code",
   "execution_count": null,
   "id": "e1824410-279c-4414-bad1-38f0dc77d7b2",
   "metadata": {
    "tags": []
   },
   "outputs": [],
   "source": [
    "fig = go.Figure()\n",
    "\n",
    "colors = n_colors(\n",
    "    \"rgb(5, 200, 200)\", \"rgb(200, 10, 10)\", results[\"T\"].nunique(), colortype=\"rgb\"\n",
    ")\n",
    "for (T, group), color in zip(results.groupby(\"T\"), colors):\n",
    "    fig.add_violin(x=group.distance, name=f\"{T:.03f}\", line_color=color)\n",
    "fig.update_traces(orientation=\"h\", side=\"positive\", points=False)\n",
    "fig.update_layout(height=600)"
   ]
  },
  {
   "cell_type": "code",
   "execution_count": null,
   "id": "3d55ae83-94c9-4ca6-9908-b844a4837b27",
   "metadata": {},
   "outputs": [],
   "source": []
  }
 ],
 "metadata": {
  "kernelspec": {
   "display_name": "Python 3 (ipykernel)",
   "language": "python",
   "name": "python3"
  },
  "language_info": {
   "codemirror_mode": {
    "name": "ipython",
    "version": 3
   },
   "file_extension": ".py",
   "mimetype": "text/x-python",
   "name": "python",
   "nbconvert_exporter": "python",
   "pygments_lexer": "ipython3",
   "version": "3.11.6"
  }
 },
 "nbformat": 4,
 "nbformat_minor": 5
}
