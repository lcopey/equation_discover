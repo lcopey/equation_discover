{
 "cells": [
  {
   "cell_type": "code",
   "execution_count": 1,
   "id": "5ec92341-2b13-4b51-b82a-65c6390a167d",
   "metadata": {
    "tags": []
   },
   "outputs": [
    {
     "name": "stderr",
     "output_type": "stream",
     "text": [
      "2023-12-23 22:31:45.028353: I tensorflow/core/util/port.cc:113] oneDNN custom operations are on. You may see slightly different numerical results due to floating-point round-off errors from different computation orders. To turn them off, set the environment variable `TF_ENABLE_ONEDNN_OPTS=0`.\n",
      "2023-12-23 22:31:45.091783: I external/local_tsl/tsl/cuda/cudart_stub.cc:31] Could not find cuda drivers on your machine, GPU will not be used.\n",
      "2023-12-23 22:31:45.396868: E external/local_xla/xla/stream_executor/cuda/cuda_dnn.cc:9261] Unable to register cuDNN factory: Attempting to register factory for plugin cuDNN when one has already been registered\n",
      "2023-12-23 22:31:45.396971: E external/local_xla/xla/stream_executor/cuda/cuda_fft.cc:607] Unable to register cuFFT factory: Attempting to register factory for plugin cuFFT when one has already been registered\n",
      "2023-12-23 22:31:45.459082: E external/local_xla/xla/stream_executor/cuda/cuda_blas.cc:1515] Unable to register cuBLAS factory: Attempting to register factory for plugin cuBLAS when one has already been registered\n",
      "2023-12-23 22:31:45.585833: I external/local_tsl/tsl/cuda/cudart_stub.cc:31] Could not find cuda drivers on your machine, GPU will not be used.\n",
      "2023-12-23 22:31:45.587049: I tensorflow/core/platform/cpu_feature_guard.cc:182] This TensorFlow binary is optimized to use available CPU instructions in performance-critical operations.\n",
      "To enable the following instructions: AVX2 AVX512F AVX512_VNNI FMA, in other operations, rebuild TensorFlow with the appropriate compiler flags.\n",
      "2023-12-23 22:31:46.815672: W tensorflow/compiler/tf2tensorrt/utils/py_utils.cc:38] TF-TRT Warning: Could not find TensorRT\n"
     ]
    }
   ],
   "source": [
    "import sys\n",
    "from typing import Literal\n",
    "\n",
    "import numpy as np\n",
    "import pandas as pd\n",
    "import plotly.express as px\n",
    "import plotly.figure_factory as ff\n",
    "import plotly.graph_objects as go\n",
    "import tensorflow as tf\n",
    "from plotly.colors import n_colors\n",
    "from tensorflow.keras.layers import GRU, Dense, Embedding, SimpleRNN, StringLookup\n",
    "from tensorflow.keras.models import Model\n",
    "\n",
    "%load_ext autoreload\n",
    "%autoreload 2\n",
    "\n",
    "sys.path.append(\"../\")\n",
    "from equation_discover import *"
   ]
  },
  {
   "cell_type": "code",
   "execution_count": 2,
   "id": "a51742ad-d800-4571-b0ae-52a7f7caca0a",
   "metadata": {
    "tags": []
   },
   "outputs": [],
   "source": [
    "from scipy.optimize import basinhopping, minimize\n",
    "from tensorflow.keras.losses import MSE"
   ]
  },
  {
   "cell_type": "code",
   "execution_count": 3,
   "id": "626ce9d1-4708-4836-878e-eaaaa3caba69",
   "metadata": {
    "tags": []
   },
   "outputs": [],
   "source": [
    "tree = Node.from_sequence(\n",
    "    [\n",
    "        BASE_TOKENS.symbols.index(value)\n",
    "        for value in [\"sin\", \"+\", \"*\", \"const\", \"var_x\", \"const\"]\n",
    "    ]\n",
    ")\n",
    "\n",
    "X = pd.DataFrame(np.linspace(-2 * np.pi, 2 * np.pi), columns=[\"var_x\"])\n",
    "y = np.sin((X * 2 + 1).squeeze())"
   ]
  },
  {
   "cell_type": "markdown",
   "id": "2a704ed4-1657-4b9f-9031-d33f1fd968c8",
   "metadata": {},
   "source": [
    "# TF"
   ]
  },
  {
   "cell_type": "code",
   "execution_count": 62,
   "id": "b568c756-5405-4a65-8e57-267e44a43cae",
   "metadata": {
    "tags": []
   },
   "outputs": [],
   "source": [
    "import tensorflow_probability as tfp\n",
    "from tensorflow.keras.losses import MSE\n",
    "import functools"
   ]
  },
  {
   "cell_type": "code",
   "execution_count": 63,
   "id": "ade8cc79-908e-473e-ba03-e1f5893a1036",
   "metadata": {
    "tags": []
   },
   "outputs": [],
   "source": [
    "X = pd.DataFrame(np.linspace(-2 * np.pi, 2 * np.pi), columns=[\"var_x\"])\n",
    "y = np.sin((X * 2 + 1).squeeze())\n",
    "model = EvalModel(tree)"
   ]
  },
  {
   "cell_type": "code",
   "execution_count": 70,
   "id": "d180a044-2afb-48a4-8e23-f0800498ec78",
   "metadata": {
    "tags": []
   },
   "outputs": [],
   "source": [
    "model.constants = np.array([0.5, 0])"
   ]
  },
  {
   "cell_type": "code",
   "execution_count": 71,
   "id": "f2bb7820-b480-4376-a246-3d7233495d01",
   "metadata": {
    "tags": []
   },
   "outputs": [
    {
     "data": {
      "text/plain": [
       "<tf.Tensor: shape=(), dtype=float32, numpy=0.99416155>"
      ]
     },
     "execution_count": 71,
     "metadata": {},
     "output_type": "execute_result"
    }
   ],
   "source": [
    "MSE(y, model.eval(X))"
   ]
  },
  {
   "cell_type": "code",
   "execution_count": 72,
   "id": "b6d255bb-22c3-4fa7-ac2d-b22b3efb061a",
   "metadata": {
    "tags": []
   },
   "outputs": [
    {
     "data": {
      "text/plain": [
       "<tf.Tensor: shape=(50,), dtype=float32, numpy=\n",
       "array([ 0.30863234,  0.2862835 ,  0.26377782,  0.24112763,  0.21834525,\n",
       "        0.19544327,  0.17243417,  0.14933059,  0.12614518,  0.10289065,\n",
       "        0.07957973,  0.05622523,  0.03283989,  0.00943656, -0.01397195,\n",
       "       -0.03737276, -0.06075313, -0.08410019, -0.10740119, -0.13064332,\n",
       "       -0.15381388, -0.17690013, -0.19988945, -0.22276926, -0.24552698,\n",
       "       -0.26815018, -0.29062644, -0.31294343, -0.33508897, -0.35705087,\n",
       "       -0.3788171 , -0.4003758 , -0.42171508, -0.4428233 , -0.46368885,\n",
       "       -0.48430032, -0.5046464 , -0.524716  , -0.544498  , -0.5639817 ,\n",
       "       -0.58315635, -0.60201144, -0.6205367 , -0.6387219 , -0.656557  ,\n",
       "       -0.6740325 , -0.69113857, -0.70786595, -0.7242054 , -0.74014807],\n",
       "      dtype=float32)>"
      ]
     },
     "execution_count": 72,
     "metadata": {},
     "output_type": "execute_result"
    }
   ],
   "source": [
    "model({\"X\": X, \"constants\": np.random.randn(2)})"
   ]
  },
  {
   "cell_type": "code",
   "execution_count": 73,
   "id": "ec6e049f-f145-4efc-ab6c-0197a27f3ac1",
   "metadata": {
    "tags": []
   },
   "outputs": [
    {
     "data": {
      "text/plain": [
       "array([2.00001025, 1.00017798])"
      ]
     },
     "execution_count": 73,
     "metadata": {},
     "output_type": "execute_result"
    }
   ],
   "source": [
    "model.optimize_constants(X, y, \"basinhopping\", niter=10000).constants"
   ]
  },
  {
   "cell_type": "code",
   "execution_count": null,
   "id": "9c1f4915-3a8d-40d1-99c0-a89f78e2f6a6",
   "metadata": {
    "tags": []
   },
   "outputs": [],
   "source": [
    "model.fit(X, y)"
   ]
  },
  {
   "cell_type": "code",
   "execution_count": null,
   "id": "ba863481-edce-4ab8-91f6-1c0cab47c498",
   "metadata": {
    "tags": []
   },
   "outputs": [],
   "source": [
    "model({\"X\": X, \"constants\": model.constants})"
   ]
  },
  {
   "cell_type": "code",
   "execution_count": null,
   "id": "12547c02-6ee5-43ae-8868-9cdc389bb484",
   "metadata": {
    "tags": []
   },
   "outputs": [],
   "source": [
    "def make_val_and_grad_fn(value_fn):\n",
    "    @functools.wraps(value_fn)\n",
    "    def val_and_grad(x):\n",
    "        return tfp.math.value_and_gradient(value_fn, x)\n",
    "\n",
    "    return val_and_grad"
   ]
  },
  {
   "cell_type": "code",
   "execution_count": null,
   "id": "fb8f428a-d43c-4c80-9154-3f5df0faa4e4",
   "metadata": {
    "tags": []
   },
   "outputs": [],
   "source": [
    "value_and_grads = make_val_and_grad_fn(\n",
    "    lambda x: MSE(y, model({\"X\": X, \"constants\": x}))\n",
    ")"
   ]
  },
  {
   "cell_type": "code",
   "execution_count": null,
   "id": "7ae81d49-eeea-4ea2-a74e-ab6ff1fbd8a3",
   "metadata": {
    "tags": []
   },
   "outputs": [],
   "source": [
    "value_and_grads = model.function_factory(X, y)"
   ]
  },
  {
   "cell_type": "code",
   "execution_count": null,
   "id": "f594f282-d3ca-451a-9f57-e3c0115b6e3a",
   "metadata": {
    "tags": []
   },
   "outputs": [],
   "source": [
    "value_and_grads(tf.convert_to_tensor(np.random.rand(2)))"
   ]
  },
  {
   "cell_type": "code",
   "execution_count": null,
   "id": "13536f37-e9f6-4762-8694-c9211e8340a4",
   "metadata": {
    "tags": []
   },
   "outputs": [],
   "source": [
    "results = tfp.optimizer.lbfgs_minimize(\n",
    "    value_and_gradients_function=value_and_grads,\n",
    "    initial_position=np.random.randn(2).astype(np.float32),\n",
    ")"
   ]
  },
  {
   "cell_type": "code",
   "execution_count": null,
   "id": "2dbbad75-08ed-4b1c-8e90-1d1ac0be338e",
   "metadata": {
    "tags": []
   },
   "outputs": [],
   "source": [
    "results.position"
   ]
  },
  {
   "cell_type": "code",
   "execution_count": null,
   "id": "9a760d85-5aff-43f3-925c-c4b373496498",
   "metadata": {},
   "outputs": [],
   "source": []
  },
  {
   "cell_type": "code",
   "execution_count": null,
   "id": "876774e1-a07e-4b0a-8cc5-473fdf85c408",
   "metadata": {
    "tags": []
   },
   "outputs": [],
   "source": [
    "value_and_grads = model.function_factory(X, y)"
   ]
  },
  {
   "cell_type": "code",
   "execution_count": null,
   "id": "b2a834e5-e5ec-49aa-9589-3ad566b74709",
   "metadata": {
    "tags": []
   },
   "outputs": [],
   "source": [
    "loss, grads = value_and_grads(model.constants)"
   ]
  },
  {
   "cell_type": "code",
   "execution_count": null,
   "id": "da02c9c2-d2d0-4a73-8e72-bdd937f2f3ff",
   "metadata": {
    "tags": []
   },
   "outputs": [],
   "source": [
    "tf.math.is_finite(loss)"
   ]
  },
  {
   "cell_type": "code",
   "execution_count": null,
   "id": "32837979-8ed9-4f20-a4a6-bdc7ef9c4a76",
   "metadata": {
    "tags": []
   },
   "outputs": [],
   "source": [
    "tf.norm(grads)"
   ]
  },
  {
   "cell_type": "code",
   "execution_count": null,
   "id": "d05a15ac-f988-445f-b470-5b4794768122",
   "metadata": {
    "tags": []
   },
   "outputs": [],
   "source": [
    "tfp.optimizer.lbfgs_minimize(\n",
    "    value_and_gradients_function=value_and_grads,\n",
    "    initial_position=tf.constant(model.constants),\n",
    ")"
   ]
  },
  {
   "cell_type": "markdown",
   "id": "6bbd56f8-6e9c-46ef-aa3b-1fe68a5e350b",
   "metadata": {},
   "source": [
    "# Expression"
   ]
  },
  {
   "cell_type": "code",
   "execution_count": null,
   "id": "27b05865-db95-4924-8195-29dacf53650f",
   "metadata": {
    "tags": []
   },
   "outputs": [],
   "source": [
    "expression = Expression(tree)"
   ]
  },
  {
   "cell_type": "code",
   "execution_count": null,
   "id": "4e5218a3-b640-488e-9bb6-7e75f8972b55",
   "metadata": {
    "tags": []
   },
   "outputs": [],
   "source": [
    "results = {}\n",
    "T = 1e-1\n",
    "step_size = 1\n",
    "for n in range(50):\n",
    "    res = basinhopping(\n",
    "        lambda constants: MSE(y, expression.eval(X, constants)),\n",
    "        expression.constants,\n",
    "        T=T,\n",
    "        stepsize=step_size,\n",
    "        niter=1000,\n",
    "        # niter_success=50\n",
    "    )\n",
    "    results[(T, step_size, n)] = res.x\n",
    "\n",
    "results = pd.Series(results).rename_axis([\"T\", \"step_size\", \"n\"]).to_frame(\"res\")\n",
    "results.reset_index(inplace=True)\n",
    "results[\"mse\"] = results.apply(\n",
    "    lambda x: MSE(y, expression.eval(X, x.res)).numpy(), axis=1\n",
    ")"
   ]
  },
  {
   "cell_type": "code",
   "execution_count": null,
   "id": "0da8271e-fc2a-40e4-88f1-33806c7da582",
   "metadata": {
    "tags": []
   },
   "outputs": [],
   "source": [
    "(results.mse < 1e-3).sum()"
   ]
  },
  {
   "cell_type": "code",
   "execution_count": null,
   "id": "f3c12b27-a93c-44c7-853d-4725e851f587",
   "metadata": {
    "tags": []
   },
   "outputs": [],
   "source": [
    "results = {}\n",
    "for step_size in np.logspace(-1, 1, 10):\n",
    "    for T in np.logspace(-3, 3, 10):\n",
    "        for n in range(30):\n",
    "            res = basinhopping(\n",
    "                lambda constants: MSE(y, expression.eval(X, constants)),\n",
    "                expression.constants,\n",
    "                T=T,\n",
    "                stepsize=step_size,\n",
    "                niter=500,\n",
    "            )\n",
    "            results[(T, step_size, n)] = res.x\n",
    "\n",
    "results = pd.Series(results).rename_axis([\"T\", \"step_size\", \"n\"]).to_frame(\"res\")\n",
    "results.reset_index(inplace=True)\n",
    "results[\"mse\"] = results.apply(\n",
    "    lambda x: MSE(y, expression.eval(X, x.res)).numpy(), axis=1\n",
    ")"
   ]
  },
  {
   "cell_type": "code",
   "execution_count": null,
   "id": "e3a049a2-498f-4cc5-9892-e680c5761dd3",
   "metadata": {
    "tags": []
   },
   "outputs": [],
   "source": [
    "px.imshow(\n",
    "    results.groupby([\"T\", \"step_size\"]).apply(lambda x: (x.mse < 1e-1).sum()).unstack(),\n",
    "    aspect=\"auto\",\n",
    ").update_layout(xaxis_type=\"log\", yaxis_type=\"log\")"
   ]
  },
  {
   "cell_type": "code",
   "execution_count": null,
   "id": "e1824410-279c-4414-bad1-38f0dc77d7b2",
   "metadata": {
    "tags": []
   },
   "outputs": [],
   "source": [
    "fig = go.Figure()\n",
    "\n",
    "colors = n_colors(\n",
    "    \"rgb(5, 200, 200)\", \"rgb(200, 10, 10)\", results[\"T\"].nunique(), colortype=\"rgb\"\n",
    ")\n",
    "for (T, group), color in zip(results.groupby(\"T\"), colors):\n",
    "    fig.add_violin(x=group.distance, name=f\"{T:.03f}\", line_color=color)\n",
    "fig.update_traces(orientation=\"h\", side=\"positive\", points=False)\n",
    "fig.update_layout(height=600)"
   ]
  },
  {
   "cell_type": "code",
   "execution_count": null,
   "id": "3d55ae83-94c9-4ca6-9908-b844a4837b27",
   "metadata": {},
   "outputs": [],
   "source": []
  }
 ],
 "metadata": {
  "kernelspec": {
   "display_name": "Python 3 (ipykernel)",
   "language": "python",
   "name": "python3"
  },
  "language_info": {
   "codemirror_mode": {
    "name": "ipython",
    "version": 3
   },
   "file_extension": ".py",
   "mimetype": "text/x-python",
   "name": "python",
   "nbconvert_exporter": "python",
   "pygments_lexer": "ipython3",
   "version": "3.11.6"
  }
 },
 "nbformat": 4,
 "nbformat_minor": 5
}
