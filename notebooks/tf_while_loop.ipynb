{
 "cells": [
  {
   "cell_type": "code",
   "execution_count": 1,
   "id": "85ebd2ab-e3a5-46fe-b75b-a78ed1e5fcd0",
   "metadata": {},
   "outputs": [
    {
     "name": "stderr",
     "output_type": "stream",
     "text": [
      "2023-12-29 14:41:26.597552: I tensorflow/core/platform/cpu_feature_guard.cc:182] This TensorFlow binary is optimized to use available CPU instructions in performance-critical operations.\n",
      "To enable the following instructions: SSE4.1 SSE4.2 AVX AVX2 AVX512F AVX512_VNNI FMA, in other operations, rebuild TensorFlow with the appropriate compiler flags.\n"
     ]
    }
   ],
   "source": [
    "import sys\n",
    "from collections import namedtuple\n",
    "\n",
    "import numpy as np\n",
    "import tensorflow as tf\n",
    "\n",
    "sys.path.append(\"../\")\n",
    "from equation_discover import *"
   ]
  },
  {
   "cell_type": "code",
   "execution_count": 14,
   "id": "9adc4cd7-e21f-479b-b26e-a68326bddf0f",
   "metadata": {},
   "outputs": [
    {
     "data": {
      "text/plain": [
       "(LoopState(i=0, x=<tf.Tensor: shape=(10, 1), dtype=float32, numpy=\n",
       " array([[-1.271224  ],\n",
       "        [ 1.5117149 ],\n",
       "        [-1.8407729 ],\n",
       "        [ 0.5429096 ],\n",
       "        [ 0.54613304],\n",
       "        [ 0.43408063],\n",
       "        [-0.76557887],\n",
       "        [ 0.59539694],\n",
       "        [-0.14712419],\n",
       "        [-0.42406607]], dtype=float32)>, y=<tf.Tensor: shape=(10, 1), dtype=float32, numpy=\n",
       " array([[ 1.5121831 ],\n",
       "        [ 1.0233103 ],\n",
       "        [-0.5891249 ],\n",
       "        [ 0.822286  ],\n",
       "        [-0.13375574],\n",
       "        [ 0.7741584 ],\n",
       "        [ 1.8876705 ],\n",
       "        [-1.2288393 ],\n",
       "        [ 1.058822  ],\n",
       "        [-0.5765435 ]], dtype=float32)>),)"
      ]
     },
     "execution_count": 14,
     "metadata": {},
     "output_type": "execute_result"
    }
   ],
   "source": [
    "tuple([init_state])"
   ]
  },
  {
   "cell_type": "code",
   "execution_count": 2,
   "id": "76bd3113-48d6-44b2-b6c7-a5c39b61d678",
   "metadata": {},
   "outputs": [
    {
     "name": "stderr",
     "output_type": "stream",
     "text": [
      "2023-12-29 14:41:28.844742: I tensorflow/core/common_runtime/process_util.cc:146] Creating new thread pool with default inter op setting: 2. Tune using inter_op_parallelism_threads for best performance.\n"
     ]
    }
   ],
   "source": [
    "LoopState = namedtuple(\"LoopState\", \"i, x, y\")\n",
    "\n",
    "init_state = LoopState(\n",
    "    0,\n",
    "    tf.random.normal((10, 1)),\n",
    "    tf.random.normal((10, 1)),\n",
    ")"
   ]
  },
  {
   "cell_type": "code",
   "execution_count": 7,
   "id": "6a6d4bd3-f7e8-448c-990d-b49e41d2bb49",
   "metadata": {},
   "outputs": [],
   "source": [
    "def body(state: LoopState):\n",
    "    return (\n",
    "        LoopState(\n",
    "            state.i + 1,\n",
    "            tf_append(state.x, tf.random.normal((10,))),\n",
    "            tf_append(state.x, tf.random.normal((10,))),\n",
    "        ),\n",
    "    )\n",
    "\n",
    "\n",
    "def cond(state: LoopState):\n",
    "    return state.i < 10"
   ]
  },
  {
   "cell_type": "code",
   "execution_count": 8,
   "id": "31577407-923c-4047-8639-13e244fd0b36",
   "metadata": {},
   "outputs": [
    {
     "data": {
      "text/plain": [
       "(LoopState(i=<tf.Tensor: shape=(), dtype=int32, numpy=10>, x=<tf.Tensor: shape=(10, 11), dtype=float32, numpy=\n",
       " array([[-1.271224  , -1.7248333 , -1.0838443 ,  0.06722423, -1.6213256 ,\n",
       "          1.0987594 , -0.10312328, -0.10186192,  0.06087451, -0.13325644,\n",
       "         -0.6784275 ],\n",
       "        [ 1.5117149 ,  0.5843664 , -0.8197026 , -1.1790277 , -0.3847549 ,\n",
       "         -0.8276474 ,  1.0528581 , -1.1476573 ,  1.5670059 , -0.37416834,\n",
       "          1.2312888 ],\n",
       "        [-1.8407729 ,  0.3471497 ,  0.30440506,  0.4035066 ,  0.35188517,\n",
       "          0.04602135,  0.68043536,  0.870286  ,  0.75525373,  0.05831465,\n",
       "         -1.0230006 ],\n",
       "        [ 0.5429096 ,  0.45549244,  0.01190468, -0.19186549, -1.1351526 ,\n",
       "         -0.04225135, -0.0227738 ,  0.25598702, -0.43833923,  0.11107502,\n",
       "          0.03640267],\n",
       "        [ 0.54613304, -0.74188685, -0.3809284 , -1.0721188 ,  1.4731231 ,\n",
       "          0.9472128 , -0.6455396 ,  0.01162487,  0.94817024, -0.68581957,\n",
       "          1.453261  ],\n",
       "        [ 0.43408063, -0.6282073 , -0.13317604, -0.7145945 , -0.59165853,\n",
       "          0.7583443 ,  0.15413584, -0.01150591, -0.04941584, -0.00735668,\n",
       "         -0.12744278],\n",
       "        [-0.76557887, -0.94020516, -1.4370234 , -1.1176072 ,  1.0948333 ,\n",
       "         -0.18808301, -1.2087555 ,  0.57143086,  0.04861673, -0.49697137,\n",
       "          1.9164356 ],\n",
       "        [ 0.59539694, -0.8677252 , -1.2642483 , -0.9584835 ,  0.18342207,\n",
       "          1.2946844 , -0.1119528 ,  0.16349527,  1.5376564 ,  0.83906376,\n",
       "         -1.0934157 ],\n",
       "        [-0.14712419,  0.02006299,  0.13271953, -0.34431073, -1.3288122 ,\n",
       "         -0.01957035,  1.2608569 , -0.6575399 ,  0.00596403, -1.4860054 ,\n",
       "         -2.339723  ],\n",
       "        [-0.42406607,  0.38892815, -0.5319076 , -1.5326308 , -0.4609685 ,\n",
       "          0.34308848, -1.4968755 ,  1.6706097 , -1.4216486 ,  0.3451083 ,\n",
       "          0.5343437 ]], dtype=float32)>, y=<tf.Tensor: shape=(10, 11), dtype=float32, numpy=\n",
       " array([[-1.271224  , -1.7248333 , -1.0838443 ,  0.06722423, -1.6213256 ,\n",
       "          1.0987594 , -0.10312328, -0.10186192,  0.06087451, -0.13325644,\n",
       "          0.7858919 ],\n",
       "        [ 1.5117149 ,  0.5843664 , -0.8197026 , -1.1790277 , -0.3847549 ,\n",
       "         -0.8276474 ,  1.0528581 , -1.1476573 ,  1.5670059 , -0.37416834,\n",
       "         -1.2479926 ],\n",
       "        [-1.8407729 ,  0.3471497 ,  0.30440506,  0.4035066 ,  0.35188517,\n",
       "          0.04602135,  0.68043536,  0.870286  ,  0.75525373,  0.05831465,\n",
       "         -0.41836908],\n",
       "        [ 0.5429096 ,  0.45549244,  0.01190468, -0.19186549, -1.1351526 ,\n",
       "         -0.04225135, -0.0227738 ,  0.25598702, -0.43833923,  0.11107502,\n",
       "         -0.39611638],\n",
       "        [ 0.54613304, -0.74188685, -0.3809284 , -1.0721188 ,  1.4731231 ,\n",
       "          0.9472128 , -0.6455396 ,  0.01162487,  0.94817024, -0.68581957,\n",
       "          0.62572414],\n",
       "        [ 0.43408063, -0.6282073 , -0.13317604, -0.7145945 , -0.59165853,\n",
       "          0.7583443 ,  0.15413584, -0.01150591, -0.04941584, -0.00735668,\n",
       "         -0.772912  ],\n",
       "        [-0.76557887, -0.94020516, -1.4370234 , -1.1176072 ,  1.0948333 ,\n",
       "         -0.18808301, -1.2087555 ,  0.57143086,  0.04861673, -0.49697137,\n",
       "         -0.02890993],\n",
       "        [ 0.59539694, -0.8677252 , -1.2642483 , -0.9584835 ,  0.18342207,\n",
       "          1.2946844 , -0.1119528 ,  0.16349527,  1.5376564 ,  0.83906376,\n",
       "         -1.0486038 ],\n",
       "        [-0.14712419,  0.02006299,  0.13271953, -0.34431073, -1.3288122 ,\n",
       "         -0.01957035,  1.2608569 , -0.6575399 ,  0.00596403, -1.4860054 ,\n",
       "          0.35195276],\n",
       "        [-0.42406607,  0.38892815, -0.5319076 , -1.5326308 , -0.4609685 ,\n",
       "          0.34308848, -1.4968755 ,  1.6706097 , -1.4216486 ,  0.3451083 ,\n",
       "          0.09311827]], dtype=float32)>),)"
      ]
     },
     "execution_count": 8,
     "metadata": {},
     "output_type": "execute_result"
    }
   ],
   "source": [
    "tf.while_loop(cond, body, loop_vars=(init_state,))"
   ]
  },
  {
   "cell_type": "code",
   "execution_count": null,
   "id": "33b836ef-f404-4c44-aa7c-e03974bf7a4b",
   "metadata": {},
   "outputs": [],
   "source": []
  }
 ],
 "metadata": {
  "kernelspec": {
   "display_name": "Python 3 (ipykernel)",
   "language": "python",
   "name": "python3"
  },
  "language_info": {
   "codemirror_mode": {
    "name": "ipython",
    "version": 3
   },
   "file_extension": ".py",
   "mimetype": "text/x-python",
   "name": "python",
   "nbconvert_exporter": "python",
   "pygments_lexer": "ipython3",
   "version": "3.11.5"
  }
 },
 "nbformat": 4,
 "nbformat_minor": 5
}
