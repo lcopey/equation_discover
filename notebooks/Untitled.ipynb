{
 "cells": [
  {
   "cell_type": "code",
   "execution_count": 1,
   "id": "85ebd2ab-e3a5-46fe-b75b-a78ed1e5fcd0",
   "metadata": {},
   "outputs": [],
   "source": [
    "from collections import namedtuple"
   ]
  },
  {
   "cell_type": "code",
   "execution_count": 3,
   "id": "4a142ff9-c3d9-4993-a4b8-545e9d4446c6",
   "metadata": {},
   "outputs": [
    {
     "ename": "TypeError",
     "evalue": "namedtuple() missing 1 required positional argument: 'field_names'",
     "output_type": "error",
     "traceback": [
      "\u001b[0;31m---------------------------------------------------------------------------\u001b[0m",
      "\u001b[0;31mTypeError\u001b[0m                                 Traceback (most recent call last)",
      "Cell \u001b[0;32mIn[3], line 1\u001b[0m\n\u001b[0;32m----> 1\u001b[0m LoopState \u001b[38;5;241m=\u001b[39m namedtuple(\u001b[38;5;124m'\u001b[39m\u001b[38;5;124mLoopState\u001b[39m\u001b[38;5;124m'\u001b[39m)\n",
      "\u001b[0;31mTypeError\u001b[0m: namedtuple() missing 1 required positional argument: 'field_names'"
     ]
    }
   ],
   "source": [
    "LoopState = namedtuple('LoopState',\n",
    "                      ['inputs',\n",
    "'current_state',\n",
    "'current_arities',\n",
    "'sequences',\n",
    "'still_incomplete',\n",
    "'mask',\n",
    "'entropies',\n",
    "'log_probs',])"
   ]
  },
  {
   "cell_type": "code",
   "execution_count": null,
   "id": "aa3a5a1e-7ca7-45ae-b48f-bfcb4deb0adc",
   "metadata": {},
   "outputs": [],
   "source": []
  }
 ],
 "metadata": {
  "kernelspec": {
   "display_name": "Python 3 (ipykernel)",
   "language": "python",
   "name": "python3"
  },
  "language_info": {
   "codemirror_mode": {
    "name": "ipython",
    "version": 3
   },
   "file_extension": ".py",
   "mimetype": "text/x-python",
   "name": "python",
   "nbconvert_exporter": "python",
   "pygments_lexer": "ipython3",
   "version": "3.11.5"
  }
 },
 "nbformat": 4,
 "nbformat_minor": 5
}
